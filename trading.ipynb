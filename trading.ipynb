{
 "cells": [
  {
   "cell_type": "markdown",
   "metadata": {},
   "source": [
    "# Initializing Packages and Libraries"
   ]
  },
  {
   "cell_type": "code",
   "execution_count": 35,
   "metadata": {},
   "outputs": [
    {
     "name": "stdout",
     "output_type": "stream",
     "text": [
      "Requirement already satisfied: alpaca-py in c:\\users\\wy7664\\appdata\\local\\programs\\python\\python313\\lib\\site-packages (0.39.1)\n",
      "Requirement already satisfied: msgpack<2.0.0,>=1.0.3 in c:\\users\\wy7664\\appdata\\local\\programs\\python\\python313\\lib\\site-packages (from alpaca-py) (1.0.3)\n",
      "Requirement already satisfied: pandas>=1.5.3 in c:\\users\\wy7664\\appdata\\local\\programs\\python\\python313\\lib\\site-packages (from alpaca-py) (2.2.3)\n",
      "Requirement already satisfied: pydantic<3.0.0,>=2.0.3 in c:\\users\\wy7664\\appdata\\local\\programs\\python\\python313\\lib\\site-packages (from alpaca-py) (2.11.3)\n",
      "Requirement already satisfied: requests<3.0.0,>=2.30.0 in c:\\users\\wy7664\\appdata\\local\\programs\\python\\python313\\lib\\site-packages (from alpaca-py) (2.32.3)\n",
      "Requirement already satisfied: sseclient-py<2.0.0,>=1.7.2 in c:\\users\\wy7664\\appdata\\local\\programs\\python\\python313\\lib\\site-packages (from alpaca-py) (1.8.0)\n",
      "Requirement already satisfied: websockets>=10.4 in c:\\users\\wy7664\\appdata\\local\\programs\\python\\python313\\lib\\site-packages (from alpaca-py) (10.4)\n",
      "Requirement already satisfied: numpy>=1.26.0 in c:\\users\\wy7664\\appdata\\local\\programs\\python\\python313\\lib\\site-packages (from pandas>=1.5.3->alpaca-py) (2.2.4)\n",
      "Requirement already satisfied: python-dateutil>=2.8.2 in c:\\users\\wy7664\\appdata\\roaming\\python\\python313\\site-packages (from pandas>=1.5.3->alpaca-py) (2.9.0.post0)\n",
      "Requirement already satisfied: pytz>=2020.1 in c:\\users\\wy7664\\appdata\\local\\programs\\python\\python313\\lib\\site-packages (from pandas>=1.5.3->alpaca-py) (2025.2)\n",
      "Requirement already satisfied: tzdata>=2022.7 in c:\\users\\wy7664\\appdata\\local\\programs\\python\\python313\\lib\\site-packages (from pandas>=1.5.3->alpaca-py) (2025.2)\n",
      "Requirement already satisfied: annotated-types>=0.6.0 in c:\\users\\wy7664\\appdata\\local\\programs\\python\\python313\\lib\\site-packages (from pydantic<3.0.0,>=2.0.3->alpaca-py) (0.7.0)\n",
      "Requirement already satisfied: pydantic-core==2.33.1 in c:\\users\\wy7664\\appdata\\local\\programs\\python\\python313\\lib\\site-packages (from pydantic<3.0.0,>=2.0.3->alpaca-py) (2.33.1)\n",
      "Requirement already satisfied: typing-extensions>=4.12.2 in c:\\users\\wy7664\\appdata\\local\\programs\\python\\python313\\lib\\site-packages (from pydantic<3.0.0,>=2.0.3->alpaca-py) (4.13.1)\n",
      "Requirement already satisfied: typing-inspection>=0.4.0 in c:\\users\\wy7664\\appdata\\local\\programs\\python\\python313\\lib\\site-packages (from pydantic<3.0.0,>=2.0.3->alpaca-py) (0.4.0)\n",
      "Requirement already satisfied: charset-normalizer<4,>=2 in c:\\users\\wy7664\\appdata\\local\\programs\\python\\python313\\lib\\site-packages (from requests<3.0.0,>=2.30.0->alpaca-py) (3.4.1)\n",
      "Requirement already satisfied: idna<4,>=2.5 in c:\\users\\wy7664\\appdata\\local\\programs\\python\\python313\\lib\\site-packages (from requests<3.0.0,>=2.30.0->alpaca-py) (3.10)\n",
      "Requirement already satisfied: urllib3<3,>=1.21.1 in c:\\users\\wy7664\\appdata\\local\\programs\\python\\python313\\lib\\site-packages (from requests<3.0.0,>=2.30.0->alpaca-py) (1.26.20)\n",
      "Requirement already satisfied: certifi>=2017.4.17 in c:\\users\\wy7664\\appdata\\local\\programs\\python\\python313\\lib\\site-packages (from requests<3.0.0,>=2.30.0->alpaca-py) (2025.1.31)\n",
      "Requirement already satisfied: six>=1.5 in c:\\users\\wy7664\\appdata\\roaming\\python\\python313\\site-packages (from python-dateutil>=2.8.2->pandas>=1.5.3->alpaca-py) (1.17.0)\n",
      "Requirement already satisfied: certifi in c:\\users\\wy7664\\appdata\\local\\programs\\python\\python313\\lib\\site-packages (2025.1.31)\n",
      "Requirement already satisfied: python-dateutil in c:\\users\\wy7664\\appdata\\roaming\\python\\python313\\site-packages (2.9.0.post0)\n",
      "Requirement already satisfied: six>=1.5 in c:\\users\\wy7664\\appdata\\roaming\\python\\python313\\site-packages (from python-dateutil) (1.17.0)\n",
      "Requirement already satisfied: matplotlib in c:\\users\\wy7664\\appdata\\local\\programs\\python\\python313\\lib\\site-packages (3.10.1)\n",
      "Requirement already satisfied: contourpy>=1.0.1 in c:\\users\\wy7664\\appdata\\local\\programs\\python\\python313\\lib\\site-packages (from matplotlib) (1.3.1)\n",
      "Requirement already satisfied: cycler>=0.10 in c:\\users\\wy7664\\appdata\\local\\programs\\python\\python313\\lib\\site-packages (from matplotlib) (0.12.1)\n",
      "Requirement already satisfied: fonttools>=4.22.0 in c:\\users\\wy7664\\appdata\\local\\programs\\python\\python313\\lib\\site-packages (from matplotlib) (4.57.0)\n",
      "Requirement already satisfied: kiwisolver>=1.3.1 in c:\\users\\wy7664\\appdata\\local\\programs\\python\\python313\\lib\\site-packages (from matplotlib) (1.4.8)\n",
      "Requirement already satisfied: numpy>=1.23 in c:\\users\\wy7664\\appdata\\local\\programs\\python\\python313\\lib\\site-packages (from matplotlib) (2.2.4)\n",
      "Requirement already satisfied: packaging>=20.0 in c:\\users\\wy7664\\appdata\\roaming\\python\\python313\\site-packages (from matplotlib) (24.2)\n",
      "Requirement already satisfied: pillow>=8 in c:\\users\\wy7664\\appdata\\local\\programs\\python\\python313\\lib\\site-packages (from matplotlib) (11.1.0)\n",
      "Requirement already satisfied: pyparsing>=2.3.1 in c:\\users\\wy7664\\appdata\\local\\programs\\python\\python313\\lib\\site-packages (from matplotlib) (3.2.3)\n",
      "Requirement already satisfied: python-dateutil>=2.7 in c:\\users\\wy7664\\appdata\\roaming\\python\\python313\\site-packages (from matplotlib) (2.9.0.post0)\n",
      "Requirement already satisfied: six>=1.5 in c:\\users\\wy7664\\appdata\\roaming\\python\\python313\\site-packages (from python-dateutil>=2.7->matplotlib) (1.17.0)\n",
      "Requirement already satisfied: pandas in c:\\users\\wy7664\\appdata\\local\\programs\\python\\python313\\lib\\site-packages (2.2.3)\n",
      "Requirement already satisfied: numpy>=1.26.0 in c:\\users\\wy7664\\appdata\\local\\programs\\python\\python313\\lib\\site-packages (from pandas) (2.2.4)\n",
      "Requirement already satisfied: python-dateutil>=2.8.2 in c:\\users\\wy7664\\appdata\\roaming\\python\\python313\\site-packages (from pandas) (2.9.0.post0)\n",
      "Requirement already satisfied: pytz>=2020.1 in c:\\users\\wy7664\\appdata\\local\\programs\\python\\python313\\lib\\site-packages (from pandas) (2025.2)\n",
      "Requirement already satisfied: tzdata>=2022.7 in c:\\users\\wy7664\\appdata\\local\\programs\\python\\python313\\lib\\site-packages (from pandas) (2025.2)\n",
      "Requirement already satisfied: six>=1.5 in c:\\users\\wy7664\\appdata\\roaming\\python\\python313\\site-packages (from python-dateutil>=2.8.2->pandas) (1.17.0)\n",
      "Requirement already satisfied: numpy in c:\\users\\wy7664\\appdata\\local\\programs\\python\\python313\\lib\\site-packages (2.2.4)\n"
     ]
    }
   ],
   "source": [
    "# Installing Packages\n",
    "!pip install alpaca-py\n",
    "!pip install certifi\n",
    "!pip install python-dateutil\n",
    "!pip install matplotlib\n",
    "!pip install pandas\n",
    "!pip install numpy\n",
    "\n",
    "# Importing Libraries\n",
    "import math\n",
    "import ssl\n",
    "import certifi\n",
    "import urllib.request\n",
    "import time\n",
    "import matplotlib.pyplot as plt\n",
    "import pandas as pd\n",
    "import numpy as np\n",
    "\n",
    "from datetime import datetime, timedelta\n",
    "from dateutil.relativedelta import relativedelta\n",
    "from alpaca.data import StockHistoricalDataClient\n",
    "from alpaca.data.requests import StockBarsRequest\n",
    "from alpaca.data.timeframe import TimeFrame\n",
    "from alpaca.trading.client import TradingClient\n",
    "from alpaca.trading.requests import MarketOrderRequest, LimitOrderRequest, GetOrdersRequest\n",
    "from alpaca.trading.enums import OrderSide, TimeInForce, OrderStatus\n",
    "from alpaca_trade_api.rest import REST"
   ]
  },
  {
   "cell_type": "markdown",
   "metadata": {},
   "source": [
    "# API Keys"
   ]
  },
  {
   "cell_type": "code",
   "execution_count": null,
   "metadata": {},
   "outputs": [],
   "source": [
    "# API key and secret key see https://app.alpaca.markets/paper/dashboard/overview to generate (API keys)\n",
    "API_KEY = '' # Add here your API key\n",
    "API_SECRET = '' # Add here your API secret key\n",
    "BASE_URL = \"https://paper-api.alpaca.markets\"\n",
    "trading_client = TradingClient(API_KEY, API_SECRET, paper=True)"
   ]
  },
  {
   "cell_type": "markdown",
   "metadata": {},
   "source": [
    "# Account information"
   ]
  },
  {
   "cell_type": "code",
   "execution_count": 37,
   "metadata": {},
   "outputs": [
    {
     "name": "stdout",
     "output_type": "stream",
     "text": [
      "Account ID: 4d1b44aa-a5e9-4a26-8e65-643967f94440\n",
      "Account Status: AccountStatus.ACTIVE\n",
      "Currency: USD\n",
      "Buying Power: 48982.75\n",
      "Cash Balance: 156961.49\n",
      "Portfolio Value: 95422.24\n",
      "Long Market Value: 35750.4\n",
      "Short Market Value: -97289.65\n",
      "Equity: 95422.24\n",
      "Last Equity: 92556.4962622587\n",
      "PDT (Pattern Day Trader) Status: False\n",
      "Is Trading Blocked: False\n",
      "Is Transfers Blocked: False\n",
      "Is Account Blocked: False\n",
      "Shorting Enabled: True\n"
     ]
    }
   ],
   "source": [
    "account = trading_client.get_account()\n",
    "\n",
    "# general information\n",
    "print(\"Account ID:\", account.id)\n",
    "print(\"Account Status:\", account.status)\n",
    "print(\"Currency:\", account.currency)\n",
    "\n",
    "# finanical status\n",
    "print(\"Buying Power:\", account.buying_power)\n",
    "print(\"Cash Balance:\", account.cash)\n",
    "print(\"Portfolio Value:\", account.portfolio_value)\n",
    "print(\"Long Market Value:\", account.long_market_value)\n",
    "print(\"Short Market Value:\", account.short_market_value)\n",
    "print(\"Equity:\", account.equity)\n",
    "print(\"Last Equity:\", account.last_equity)\n",
    "\n",
    "# trading restrictions\n",
    "print(\"PDT (Pattern Day Trader) Status:\", account.pattern_day_trader)\n",
    "print(\"Is Trading Blocked:\", account.trading_blocked)\n",
    "print(\"Is Transfers Blocked:\", account.transfers_blocked)\n",
    "print(\"Is Account Blocked:\", account.account_blocked)\n",
    "print(\"Shorting Enabled:\", account.shorting_enabled)"
   ]
  },
  {
   "cell_type": "markdown",
   "metadata": {},
   "source": [
    "# Market Order"
   ]
  },
  {
   "cell_type": "code",
   "execution_count": 38,
   "metadata": {},
   "outputs": [
    {
     "name": "stdout",
     "output_type": "stream",
     "text": [
      "Market order: id=UUID('3e580d73-fe18-4fe2-93c5-1daf8d1a7c0a') client_order_id='e0a47441-1151-4953-8254-c91e6b06062f' created_at=datetime.datetime(2025, 4, 11, 8, 23, 30, 762282, tzinfo=TzInfo(UTC)) updated_at=datetime.datetime(2025, 4, 11, 8, 23, 30, 762852, tzinfo=TzInfo(UTC)) submitted_at=datetime.datetime(2025, 4, 11, 8, 23, 30, 762282, tzinfo=TzInfo(UTC)) filled_at=None expired_at=None expires_at=datetime.datetime(2025, 4, 11, 20, 0, tzinfo=TzInfo(UTC)) canceled_at=None failed_at=None replaced_at=None replaced_by=None replaces=None asset_id=UUID('3c6eaa3f-d12a-4e72-aab5-b0e005ba631a') symbol='ZBRA' asset_class=<AssetClass.US_EQUITY: 'us_equity'> notional=None qty='1' filled_qty='0' filled_avg_price=None order_class=<OrderClass.SIMPLE: 'simple'> order_type=<OrderType.MARKET: 'market'> type=<OrderType.MARKET: 'market'> side=<OrderSide.BUY: 'buy'> time_in_force=<TimeInForce.DAY: 'day'> limit_price=None stop_price=None status=<OrderStatus.PENDING_NEW: 'pending_new'> extended_hours=False legs=None trail_percent=None trail_price=None hwm=None position_intent=<PositionIntent.BUY_TO_CLOSE: 'buy_to_close'> ratio_qty=None\n"
     ]
    }
   ],
   "source": [
    "market_order_data = MarketOrderRequest(\n",
    "                    symbol=\"ZBRA\", # adjust symbol for asset\n",
    "                    qty=1, # adjust quantity\n",
    "                    side=OrderSide.BUY, # adjust side (ATTENTION: no BUY and SELL orders at the same time)\n",
    "                    time_in_force=TimeInForce.DAY # adjust time in force (DAY, GTC, OPG, CLS, IOC, FOK)\n",
    "                    )\n",
    "\n",
    "try:\n",
    "    market_order = trading_client.submit_order(\n",
    "        order_data=market_order_data\n",
    "    )\n",
    "    print(\"Market order:\", market_order)\n",
    "except Exception as e:\n",
    "    print(\"Error placing market order order:\", e)"
   ]
  },
  {
   "cell_type": "markdown",
   "metadata": {},
   "source": [
    "# Limit Order"
   ]
  },
  {
   "cell_type": "code",
   "execution_count": 39,
   "metadata": {},
   "outputs": [
    {
     "name": "stdout",
     "output_type": "stream",
     "text": [
      "Limit Order: id=UUID('39ea3eee-3cf0-48b7-8a1e-ef4b8468a48b') client_order_id='e49d8118-7779-4094-963f-8ae094984953' created_at=datetime.datetime(2025, 4, 11, 8, 23, 33, 755534, tzinfo=TzInfo(UTC)) updated_at=datetime.datetime(2025, 4, 11, 8, 23, 33, 757991, tzinfo=TzInfo(UTC)) submitted_at=datetime.datetime(2025, 4, 11, 8, 23, 33, 755534, tzinfo=TzInfo(UTC)) filled_at=None expired_at=None expires_at=datetime.datetime(2025, 7, 9, 20, 0, tzinfo=TzInfo(UTC)) canceled_at=None failed_at=None replaced_at=None replaced_by=None replaces=None asset_id=UUID('276e2673-764b-4ab6-a611-caf665ca6340') symbol='BTC/USD' asset_class=<AssetClass.CRYPTO: 'crypto'> notional='4000' qty=None filled_qty='0' filled_avg_price=None order_class=<OrderClass.SIMPLE: 'simple'> order_type=<OrderType.LIMIT: 'limit'> type=<OrderType.LIMIT: 'limit'> side=<OrderSide.BUY: 'buy'> time_in_force=<TimeInForce.GTC: 'gtc'> limit_price='17000' stop_price=None status=<OrderStatus.PENDING_NEW: 'pending_new'> extended_hours=False legs=None trail_percent=None trail_price=None hwm=None position_intent=<PositionIntent.BUY_TO_OPEN: 'buy_to_open'> ratio_qty=None\n"
     ]
    }
   ],
   "source": [
    "limit_order_data = LimitOrderRequest(\n",
    "    symbol=\"BTC/USD\",\n",
    "    limit_price=17000,  # Adjust the price as needed\n",
    "    notional=4000,      # Adjust the notional amount as needed\n",
    "    side=OrderSide.BUY,\n",
    "    time_in_force=TimeInForce.GTC  # Change to a valid value\n",
    ")\n",
    "\n",
    "try:\n",
    "    limit_order = trading_client.submit_order(order_data=limit_order_data)\n",
    "    print(\"Limit Order:\", limit_order)\n",
    "except Exception as e:\n",
    "    print(\"Error placing limit order:\", e)"
   ]
  },
  {
   "cell_type": "markdown",
   "metadata": {},
   "source": [
    "# Open Orders"
   ]
  },
  {
   "cell_type": "code",
   "execution_count": 40,
   "metadata": {},
   "outputs": [
    {
     "name": "stdout",
     "output_type": "stream",
     "text": [
      "Symbol: BTC/USD, Side: OrderSide.BUY, Quantity: None, Type: OrderType.LIMIT\n",
      "Symbol: ZBRA, Side: OrderSide.BUY, Quantity: 1, Type: OrderType.MARKET\n",
      "Symbol: HPE, Side: OrderSide.SELL, Quantity: 14, Type: OrderType.MARKET\n",
      "Symbol: EIX, Side: OrderSide.SELL, Quantity: 3, Type: OrderType.MARKET\n",
      "Symbol: NKE, Side: OrderSide.SELL, Quantity: 3, Type: OrderType.MARKET\n",
      "Symbol: CDW, Side: OrderSide.SELL, Quantity: 1, Type: OrderType.MARKET\n",
      "Symbol: HAL, Side: OrderSide.SELL, Quantity: 9, Type: OrderType.MARKET\n",
      "Symbol: MU, Side: OrderSide.SELL, Quantity: 2, Type: OrderType.MARKET\n",
      "Symbol: MHK, Side: OrderSide.SELL, Quantity: 1, Type: OrderType.MARKET\n",
      "Symbol: NTAP, Side: OrderSide.SELL, Quantity: 2, Type: OrderType.MARKET\n",
      "Symbol: DVN, Side: OrderSide.SELL, Quantity: 7, Type: OrderType.MARKET\n",
      "Symbol: DHI, Side: OrderSide.SELL, Quantity: 1, Type: OrderType.MARKET\n",
      "Symbol: VTRS, Side: OrderSide.SELL, Quantity: 27, Type: OrderType.MARKET\n",
      "Symbol: STX, Side: OrderSide.SELL, Quantity: 2, Type: OrderType.MARKET\n",
      "Symbol: ARE, Side: OrderSide.SELL, Quantity: 2, Type: OrderType.MARKET\n",
      "Symbol: FANG, Side: OrderSide.SELL, Quantity: 1, Type: OrderType.MARKET\n",
      "Symbol: FCX, Side: OrderSide.SELL, Quantity: 6, Type: OrderType.MARKET\n",
      "Symbol: IQV, Side: OrderSide.SELL, Quantity: 1, Type: OrderType.MARKET\n",
      "Symbol: GNRC, Side: OrderSide.SELL, Quantity: 1, Type: OrderType.MARKET\n",
      "Symbol: BLDR, Side: OrderSide.SELL, Quantity: 1, Type: OrderType.MARKET\n",
      "Symbol: DELL, Side: OrderSide.SELL, Quantity: 2, Type: OrderType.MARKET\n",
      "Symbol: HPQ, Side: OrderSide.SELL, Quantity: 8, Type: OrderType.MARKET\n",
      "Symbol: ETR, Side: OrderSide.SELL, Quantity: 2, Type: OrderType.MARKET\n",
      "Symbol: BBY, Side: OrderSide.SELL, Quantity: 3, Type: OrderType.MARKET\n",
      "Symbol: BIIB, Side: OrderSide.SELL, Quantity: 1, Type: OrderType.MARKET\n",
      "Symbol: LVS, Side: OrderSide.SELL, Quantity: 6, Type: OrderType.MARKET\n",
      "Symbol: AES, Side: OrderSide.SELL, Quantity: 19, Type: OrderType.MARKET\n",
      "Symbol: LEN, Side: OrderSide.SELL, Quantity: 1, Type: OrderType.MARKET\n",
      "Symbol: TGT, Side: OrderSide.SELL, Quantity: 2, Type: OrderType.MARKET\n",
      "Symbol: LYB, Side: OrderSide.SELL, Quantity: 3, Type: OrderType.MARKET\n",
      "Symbol: FSLR, Side: OrderSide.SELL, Quantity: 1, Type: OrderType.MARKET\n",
      "Symbol: CZR, Side: OrderSide.SELL, Quantity: 7, Type: OrderType.MARKET\n",
      "Symbol: EL, Side: OrderSide.SELL, Quantity: 3, Type: OrderType.MARKET\n",
      "Symbol: SWKS, Side: OrderSide.SELL, Quantity: 3, Type: OrderType.MARKET\n",
      "Symbol: TER, Side: OrderSide.SELL, Quantity: 2, Type: OrderType.MARKET\n",
      "Symbol: SWK, Side: OrderSide.SELL, Quantity: 3, Type: OrderType.MARKET\n",
      "Symbol: APA, Side: OrderSide.SELL, Quantity: 13, Type: OrderType.MARKET\n",
      "Symbol: WDC, Side: OrderSide.SELL, Quantity: 5, Type: OrderType.MARKET\n",
      "Symbol: ALB, Side: OrderSide.SELL, Quantity: 3, Type: OrderType.MARKET\n",
      "Symbol: AMD, Side: OrderSide.SELL, Quantity: 2, Type: OrderType.MARKET\n",
      "Symbol: CRL, Side: OrderSide.SELL, Quantity: 2, Type: OrderType.MARKET\n",
      "Symbol: DOW, Side: OrderSide.SELL, Quantity: 7, Type: OrderType.MARKET\n",
      "Symbol: MCHP, Side: OrderSide.SELL, Quantity: 5, Type: OrderType.MARKET\n",
      "Symbol: ON, Side: OrderSide.SELL, Quantity: 5, Type: OrderType.MARKET\n",
      "Symbol: ENPH, Side: OrderSide.SELL, Quantity: 4, Type: OrderType.MARKET\n",
      "Symbol: PANW, Side: OrderSide.SELL, Quantity: 1, Type: OrderType.MARKET\n",
      "Symbol: MRNA, Side: OrderSide.SELL, Quantity: 8, Type: OrderType.MARKET\n",
      "Symbol: ANET, Side: OrderSide.SELL, Quantity: 2, Type: OrderType.MARKET\n",
      "Symbol: TSCO, Side: OrderSide.SELL, Quantity: 3, Type: OrderType.MARKET\n"
     ]
    }
   ],
   "source": [
    "try:\n",
    "    # Create a request to fetch orders with \"open\" status\n",
    "    open_orders_request = GetOrdersRequest(status=\"open\")\n",
    "    open_orders = trading_client.get_orders(open_orders_request)\n",
    "\n",
    "    # Display all open orders\n",
    "    if open_orders:\n",
    "        for order in open_orders:\n",
    "            print(f\"Symbol: {order.symbol}, Side: {order.side}, Quantity: {order.qty}, Type: {order.order_type}\")\n",
    "    else:\n",
    "        print(\"No open orders found.\")\n",
    "except Exception as e:\n",
    "    print(f\"Error fetching open orders: {e}\")"
   ]
  },
  {
   "cell_type": "markdown",
   "metadata": {},
   "source": [
    "# Short Selling"
   ]
  },
  {
   "cell_type": "code",
   "execution_count": 41,
   "metadata": {},
   "outputs": [
    {
     "name": "stdout",
     "output_type": "stream",
     "text": [
      "Error placing market order order: {\"code\":40310000,\"existing_order_id\":\"3e580d73-fe18-4fe2-93c5-1daf8d1a7c0a\",\"message\":\"potential wash trade detected. use complex orders\",\"reject_reason\":\"opposite side market/stop order exists\"}\n"
     ]
    }
   ],
   "source": [
    "# SELL orders are rejected when simultaneously placing a BUY order ('wash trade')\n",
    "market_order_data = MarketOrderRequest(\n",
    "                    symbol=\"ZBRA\", # adjust symbol for asset\n",
    "                    qty=1, # adjust quantity\n",
    "                    side=OrderSide.SELL, # adjust side (ATTENTION: no BUY and SELL orders at the same time)\n",
    "                    time_in_force=TimeInForce.DAY # adjust time in force (DAY, GTC, OPG, CLS, IOC, FOK)\n",
    "                    )\n",
    "\n",
    "try:\n",
    "    market_order = trading_client.submit_order(\n",
    "        order_data=market_order_data\n",
    "    )\n",
    "    print(\"Market order:\", market_order)\n",
    "except Exception as e:\n",
    "    print(\"Error placing market order order:\", e)\n"
   ]
  },
  {
   "cell_type": "markdown",
   "metadata": {},
   "source": [
    "# Shorting Restrictions"
   ]
  },
  {
   "cell_type": "code",
   "execution_count": 42,
   "metadata": {},
   "outputs": [
    {
     "name": "stdout",
     "output_type": "stream",
     "text": [
      "Symbol: NUE\n",
      "Tradable: True\n",
      "Shortable: True\n"
     ]
    }
   ],
   "source": [
    "# shorting restrictions\n",
    "# due to market conditions or broker policies (e.g., hard-to-borrow stocks) cannot be shorted\n",
    "asset = trading_client.get_asset(\"NUE\")\n",
    "print(f\"Symbol: {asset.symbol}\")\n",
    "print(f\"Tradable: {asset.tradable}\")\n",
    "print(f\"Shortable: {asset.shortable}\")"
   ]
  },
  {
   "cell_type": "markdown",
   "metadata": {},
   "source": [
    "# Canceling Open Orders"
   ]
  },
  {
   "cell_type": "code",
   "execution_count": 43,
   "metadata": {},
   "outputs": [
    {
     "name": "stdout",
     "output_type": "stream",
     "text": [
      "All open orders have been cancelled.\n"
     ]
    }
   ],
   "source": [
    "# cancel all open orders (if needed)\n",
    "try:\n",
    "    trading_client.cancel_orders()\n",
    "    print(\"All open orders have been cancelled.\")\n",
    "except Exception as e:\n",
    "    print(f\"Error cancelling orders: {e}\")"
   ]
  },
  {
   "cell_type": "markdown",
   "metadata": {},
   "source": [
    "# Stock Data"
   ]
  },
  {
   "cell_type": "code",
   "execution_count": 44,
   "metadata": {},
   "outputs": [
    {
     "data": {
      "application/vnd.microsoft.datawrangler.viewer.v0+json": {
       "columns": [
        {
         "name": "('symbol', 'timestamp')",
         "rawType": "object",
         "type": "unknown"
        },
        {
         "name": "open",
         "rawType": "float64",
         "type": "float"
        },
        {
         "name": "high",
         "rawType": "float64",
         "type": "float"
        },
        {
         "name": "low",
         "rawType": "float64",
         "type": "float"
        },
        {
         "name": "close",
         "rawType": "float64",
         "type": "float"
        },
        {
         "name": "volume",
         "rawType": "float64",
         "type": "float"
        },
        {
         "name": "trade_count",
         "rawType": "float64",
         "type": "float"
        },
        {
         "name": "vwap",
         "rawType": "float64",
         "type": "float"
        }
       ],
       "conversionMethod": "pd.DataFrame",
       "ref": "53fc1d5e-e476-4eae-9581-c833fe2b9c8f",
       "rows": [
        [
         "('HBAN', Timestamp('2025-04-10 04:00:00+0000', tz='UTC'))",
         "13.33",
         "13.4051",
         "12.42",
         "12.89",
         "28774855.0",
         "122703.0",
         "12.805771"
        ],
        [
         "('IEX', Timestamp('2025-04-10 04:00:00+0000', tz='UTC'))",
         "169.41",
         "170.335",
         "162.065",
         "166.97",
         "807815.0",
         "21949.0",
         "166.379202"
        ],
        [
         "('MKTX', Timestamp('2025-04-10 04:00:00+0000', tz='UTC'))",
         "204.14",
         "212.36",
         "202.795",
         "210.32",
         "790314.0",
         "25194.0",
         "208.662043"
        ],
        [
         "('ACGL', Timestamp('2025-04-10 04:00:00+0000', tz='UTC'))",
         "91.19",
         "92.28",
         "88.71",
         "90.58",
         "2269481.0",
         "34303.0",
         "90.465336"
        ],
        [
         "('CPAY', Timestamp('2025-04-10 04:00:00+0000', tz='UTC'))",
         "313.23",
         "314.77",
         "292.67",
         "299.74",
         "577292.0",
         "18650.0",
         "300.843436"
        ],
        [
         "('URI', Timestamp('2025-04-10 04:00:00+0000', tz='UTC'))",
         "596.52",
         "599.12",
         "559.58",
         "579.94",
         "1104431.0",
         "36783.0",
         "579.085396"
        ],
        [
         "('WELL', Timestamp('2025-04-10 04:00:00+0000', tz='UTC'))",
         "140.99",
         "143.88",
         "138.05",
         "141.81",
         "3412313.0",
         "54549.0",
         "141.507652"
        ],
        [
         "('AMZN', Timestamp('2025-04-10 04:00:00+0000', tz='UTC'))",
         "185.44",
         "186.8692",
         "175.8518",
         "181.22",
         "68302045.0",
         "925662.0",
         "181.60916"
        ],
        [
         "('BLDR', Timestamp('2025-04-10 04:00:00+0000', tz='UTC'))",
         "122.09",
         "122.09",
         "115.765",
         "119.94",
         "1732863.0",
         "35911.0",
         "119.363923"
        ],
        [
         "('HST', Timestamp('2025-04-10 04:00:00+0000', tz='UTC'))",
         "13.9",
         "14.095",
         "13.05",
         "13.45",
         "14079344.0",
         "85392.0",
         "13.461434"
        ],
        [
         "('PPL', Timestamp('2025-04-10 04:00:00+0000', tz='UTC'))",
         "34.02",
         "34.62",
         "33.525",
         "34.2",
         "6395768.0",
         "72099.0",
         "34.156125"
        ],
        [
         "('EXPD', Timestamp('2025-04-10 04:00:00+0000', tz='UTC'))",
         "109.4",
         "109.9",
         "105.28",
         "108.26",
         "1528755.0",
         "31854.0",
         "107.915147"
        ],
        [
         "('FSLR', Timestamp('2025-04-10 04:00:00+0000', tz='UTC'))",
         "125.0",
         "125.7",
         "117.6501",
         "122.19",
         "3736936.0",
         "74532.0",
         "122.095868"
        ],
        [
         "('GEN', Timestamp('2025-04-10 04:00:00+0000', tz='UTC'))",
         "24.81",
         "25.03",
         "23.67",
         "24.26",
         "5343791.0",
         "58567.0",
         "24.256258"
        ],
        [
         "('GL', Timestamp('2025-04-10 04:00:00+0000', tz='UTC'))",
         "120.18",
         "121.0",
         "115.08",
         "118.6",
         "746814.0",
         "18892.0",
         "118.554949"
        ],
        [
         "('STT', Timestamp('2025-04-10 04:00:00+0000', tz='UTC'))",
         "80.43",
         "80.65",
         "76.26",
         "79.0",
         "2496929.0",
         "42817.0",
         "78.671588"
        ],
        [
         "('BRO', Timestamp('2025-04-10 04:00:00+0000', tz='UTC'))",
         "116.73",
         "118.88",
         "114.69",
         "117.26",
         "2482588.0",
         "45486.0",
         "117.208664"
        ],
        [
         "('GLW', Timestamp('2025-04-10 04:00:00+0000', tz='UTC'))",
         "42.08",
         "42.575",
         "40.59",
         "41.69",
         "6723323.0",
         "82185.0",
         "41.716554"
        ],
        [
         "('HPE', Timestamp('2025-04-10 04:00:00+0000', tz='UTC'))",
         "13.94",
         "14.07",
         "13.2",
         "13.74",
         "23011164.0",
         "114815.0",
         "13.702493"
        ],
        [
         "('NRG', Timestamp('2025-04-10 04:00:00+0000', tz='UTC'))",
         "94.72",
         "95.92",
         "90.905",
         "92.89",
         "2576954.0",
         "48284.0",
         "93.404125"
        ],
        [
         "('SWK', Timestamp('2025-04-10 04:00:00+0000', tz='UTC'))",
         "61.71",
         "61.73",
         "55.8772",
         "58.68",
         "5025791.0",
         "72190.0",
         "58.322834"
        ],
        [
         "('BLK', Timestamp('2025-04-10 04:00:00+0000', tz='UTC'))",
         "879.49",
         "880.41",
         "833.095",
         "858.78",
         "1235574.0",
         "47469.0",
         "855.352686"
        ],
        [
         "('DVA', Timestamp('2025-04-10 04:00:00+0000', tz='UTC'))",
         "152.03",
         "154.5207",
         "148.04",
         "153.36",
         "683448.0",
         "18312.0",
         "152.396477"
        ],
        [
         "('GS', Timestamp('2025-04-10 04:00:00+0000', tz='UTC'))",
         "503.1",
         "503.1",
         "474.0",
         "489.8",
         "5374481.0",
         "116862.0",
         "488.719212"
        ],
        [
         "('HSY', Timestamp('2025-04-10 04:00:00+0000', tz='UTC'))",
         "163.63",
         "166.43",
         "160.89",
         "164.09",
         "1491611.0",
         "31694.0",
         "163.630746"
        ],
        [
         "('MS', Timestamp('2025-04-10 04:00:00+0000', tz='UTC'))",
         "108.77",
         "108.87",
         "103.41",
         "106.58",
         "10956729.0",
         "138980.0",
         "106.422724"
        ],
        [
         "('EXPE', Timestamp('2025-04-10 04:00:00+0000', tz='UTC'))",
         "155.42",
         "156.18",
         "146.03",
         "149.52",
         "2806087.0",
         "56887.0",
         "150.469312"
        ],
        [
         "('LYV', Timestamp('2025-04-10 04:00:00+0000', tz='UTC'))",
         "128.92",
         "130.13",
         "124.53",
         "129.23",
         "3102537.0",
         "50982.0",
         "127.699566"
        ],
        [
         "('MTCH', Timestamp('2025-04-10 04:00:00+0000', tz='UTC'))",
         "28.74",
         "29.16",
         "27.345",
         "28.08",
         "4820788.0",
         "61036.0",
         "28.091004"
        ],
        [
         "('WMB', Timestamp('2025-04-10 04:00:00+0000', tz='UTC'))",
         "55.35",
         "56.085",
         "53.63",
         "55.07",
         "10314382.0",
         "128983.0",
         "54.984553"
        ],
        [
         "('CRL', Timestamp('2025-04-10 04:00:00+0000', tz='UTC'))",
         "136.27",
         "136.585",
         "95.97",
         "99.95",
         "6599385.0",
         "68952.0",
         "111.352909"
        ],
        [
         "('EQR', Timestamp('2025-04-10 04:00:00+0000', tz='UTC'))",
         "65.65",
         "66.99",
         "62.54",
         "64.27",
         "2599079.0",
         "34833.0",
         "64.180449"
        ],
        [
         "('MPWR', Timestamp('2025-04-10 04:00:00+0000', tz='UTC'))",
         "525.98",
         "530.64",
         "470.22",
         "484.71",
         "2145625.0",
         "52712.0",
         "486.606601"
        ],
        [
         "('TGT', Timestamp('2025-04-10 04:00:00+0000', tz='UTC'))",
         "95.69",
         "96.0",
         "89.8",
         "92.71",
         "12187919.0",
         "156080.0",
         "92.335146"
        ],
        [
         "('DRI', Timestamp('2025-04-10 04:00:00+0000', tz='UTC'))",
         "191.83",
         "193.95",
         "187.225",
         "192.03",
         "1289062.0",
         "30541.0",
         "191.172575"
        ],
        [
         "('FDS', Timestamp('2025-04-10 04:00:00+0000', tz='UTC'))",
         "421.65",
         "423.09",
         "407.24",
         "416.69",
         "294851.0",
         "14886.0",
         "416.587967"
        ],
        [
         "('MAR', Timestamp('2025-04-10 04:00:00+0000', tz='UTC'))",
         "228.45",
         "230.22",
         "217.27",
         "222.92",
         "3603193.0",
         "61021.0",
         "223.114666"
        ],
        [
         "('EG', Timestamp('2025-04-10 04:00:00+0000', tz='UTC'))",
         "345.95",
         "346.74",
         "335.1687",
         "341.4",
         "361934.0",
         "14443.0",
         "341.604477"
        ],
        [
         "('NWS', Timestamp('2025-04-10 04:00:00+0000', tz='UTC'))",
         "29.76",
         "30.275",
         "28.56",
         "29.58",
         "870637.0",
         "18137.0",
         "29.458348"
        ],
        [
         "('DLR', Timestamp('2025-04-10 04:00:00+0000', tz='UTC'))",
         "142.7",
         "144.46",
         "137.77",
         "142.29",
         "2162685.0",
         "41628.0",
         "141.713187"
        ],
        [
         "('EXR', Timestamp('2025-04-10 04:00:00+0000', tz='UTC'))",
         "134.76",
         "137.24",
         "128.9",
         "131.84",
         "2067935.0",
         "29294.0",
         "131.955476"
        ],
        [
         "('KMX', Timestamp('2025-04-10 04:00:00+0000', tz='UTC'))",
         "69.485",
         "71.55",
         "63.225",
         "66.45",
         "20279408.0",
         "208780.0",
         "66.176158"
        ],
        [
         "('LH', Timestamp('2025-04-10 04:00:00+0000', tz='UTC'))",
         "228.66",
         "228.92",
         "212.48",
         "218.61",
         "2023383.0",
         "34619.0",
         "219.325961"
        ],
        [
         "('PKG', Timestamp('2025-04-10 04:00:00+0000', tz='UTC'))",
         "186.47",
         "187.275",
         "180.0",
         "185.45",
         "1100184.0",
         "26903.0",
         "185.063725"
        ],
        [
         "('SMCI', Timestamp('2025-04-10 04:00:00+0000', tz='UTC'))",
         "35.09",
         "35.4799",
         "32.5",
         "33.68",
         "38130449.0",
         "288715.0",
         "33.971484"
        ],
        [
         "('TPR', Timestamp('2025-04-10 04:00:00+0000', tz='UTC'))",
         "65.03",
         "66.0",
         "62.04",
         "63.92",
         "5761985.0",
         "77875.0",
         "63.8915"
        ],
        [
         "('CNP', Timestamp('2025-04-10 04:00:00+0000', tz='UTC'))",
         "36.19",
         "36.645",
         "35.52",
         "36.19",
         "10449441.0",
         "77869.0",
         "36.131164"
        ],
        [
         "('CVS', Timestamp('2025-04-10 04:00:00+0000', tz='UTC'))",
         "69.68",
         "70.89",
         "68.3394",
         "68.97",
         "15828669.0",
         "138990.0",
         "69.492468"
        ],
        [
         "('EFX', Timestamp('2025-04-10 04:00:00+0000', tz='UTC'))",
         "221.95",
         "221.95",
         "209.24",
         "217.73",
         "1376397.0",
         "30374.0",
         "216.640624"
        ],
        [
         "('KVUE', Timestamp('2025-04-10 04:00:00+0000', tz='UTC'))",
         "21.7",
         "22.11",
         "21.41",
         "21.87",
         "16963867.0",
         "100919.0",
         "21.809595"
        ]
       ],
       "shape": {
        "columns": 7,
        "rows": 503
       }
      },
      "text/html": [
       "<div>\n",
       "<style scoped>\n",
       "    .dataframe tbody tr th:only-of-type {\n",
       "        vertical-align: middle;\n",
       "    }\n",
       "\n",
       "    .dataframe tbody tr th {\n",
       "        vertical-align: top;\n",
       "    }\n",
       "\n",
       "    .dataframe thead th {\n",
       "        text-align: right;\n",
       "    }\n",
       "</style>\n",
       "<table border=\"1\" class=\"dataframe\">\n",
       "  <thead>\n",
       "    <tr style=\"text-align: right;\">\n",
       "      <th></th>\n",
       "      <th></th>\n",
       "      <th>open</th>\n",
       "      <th>high</th>\n",
       "      <th>low</th>\n",
       "      <th>close</th>\n",
       "      <th>volume</th>\n",
       "      <th>trade_count</th>\n",
       "      <th>vwap</th>\n",
       "    </tr>\n",
       "    <tr>\n",
       "      <th>symbol</th>\n",
       "      <th>timestamp</th>\n",
       "      <th></th>\n",
       "      <th></th>\n",
       "      <th></th>\n",
       "      <th></th>\n",
       "      <th></th>\n",
       "      <th></th>\n",
       "      <th></th>\n",
       "    </tr>\n",
       "  </thead>\n",
       "  <tbody>\n",
       "    <tr>\n",
       "      <th>HBAN</th>\n",
       "      <th>2025-04-10 04:00:00+00:00</th>\n",
       "      <td>13.330</td>\n",
       "      <td>13.4051</td>\n",
       "      <td>12.4200</td>\n",
       "      <td>12.89</td>\n",
       "      <td>28774855.0</td>\n",
       "      <td>122703.0</td>\n",
       "      <td>12.805771</td>\n",
       "    </tr>\n",
       "    <tr>\n",
       "      <th>IEX</th>\n",
       "      <th>2025-04-10 04:00:00+00:00</th>\n",
       "      <td>169.410</td>\n",
       "      <td>170.3350</td>\n",
       "      <td>162.0650</td>\n",
       "      <td>166.97</td>\n",
       "      <td>807815.0</td>\n",
       "      <td>21949.0</td>\n",
       "      <td>166.379202</td>\n",
       "    </tr>\n",
       "    <tr>\n",
       "      <th>MKTX</th>\n",
       "      <th>2025-04-10 04:00:00+00:00</th>\n",
       "      <td>204.140</td>\n",
       "      <td>212.3600</td>\n",
       "      <td>202.7950</td>\n",
       "      <td>210.32</td>\n",
       "      <td>790314.0</td>\n",
       "      <td>25194.0</td>\n",
       "      <td>208.662043</td>\n",
       "    </tr>\n",
       "    <tr>\n",
       "      <th>ACGL</th>\n",
       "      <th>2025-04-10 04:00:00+00:00</th>\n",
       "      <td>91.190</td>\n",
       "      <td>92.2800</td>\n",
       "      <td>88.7100</td>\n",
       "      <td>90.58</td>\n",
       "      <td>2269481.0</td>\n",
       "      <td>34303.0</td>\n",
       "      <td>90.465336</td>\n",
       "    </tr>\n",
       "    <tr>\n",
       "      <th>CPAY</th>\n",
       "      <th>2025-04-10 04:00:00+00:00</th>\n",
       "      <td>313.230</td>\n",
       "      <td>314.7700</td>\n",
       "      <td>292.6700</td>\n",
       "      <td>299.74</td>\n",
       "      <td>577292.0</td>\n",
       "      <td>18650.0</td>\n",
       "      <td>300.843436</td>\n",
       "    </tr>\n",
       "    <tr>\n",
       "      <th>...</th>\n",
       "      <th>...</th>\n",
       "      <td>...</td>\n",
       "      <td>...</td>\n",
       "      <td>...</td>\n",
       "      <td>...</td>\n",
       "      <td>...</td>\n",
       "      <td>...</td>\n",
       "      <td>...</td>\n",
       "    </tr>\n",
       "    <tr>\n",
       "      <th>TT</th>\n",
       "      <th>2025-04-10 04:00:00+00:00</th>\n",
       "      <td>334.660</td>\n",
       "      <td>342.3500</td>\n",
       "      <td>325.9850</td>\n",
       "      <td>338.33</td>\n",
       "      <td>1715899.0</td>\n",
       "      <td>44157.0</td>\n",
       "      <td>337.126412</td>\n",
       "    </tr>\n",
       "    <tr>\n",
       "      <th>UPS</th>\n",
       "      <th>2025-04-10 04:00:00+00:00</th>\n",
       "      <td>98.115</td>\n",
       "      <td>98.1300</td>\n",
       "      <td>93.9801</td>\n",
       "      <td>96.56</td>\n",
       "      <td>7553658.0</td>\n",
       "      <td>97387.0</td>\n",
       "      <td>96.053501</td>\n",
       "    </tr>\n",
       "    <tr>\n",
       "      <th>INVH</th>\n",
       "      <th>2025-04-10 04:00:00+00:00</th>\n",
       "      <td>31.950</td>\n",
       "      <td>32.4500</td>\n",
       "      <td>30.7800</td>\n",
       "      <td>31.64</td>\n",
       "      <td>3461664.0</td>\n",
       "      <td>36690.0</td>\n",
       "      <td>31.552421</td>\n",
       "    </tr>\n",
       "    <tr>\n",
       "      <th>JBL</th>\n",
       "      <th>2025-04-10 04:00:00+00:00</th>\n",
       "      <td>133.000</td>\n",
       "      <td>135.7500</td>\n",
       "      <td>127.8800</td>\n",
       "      <td>132.04</td>\n",
       "      <td>2202985.0</td>\n",
       "      <td>39644.0</td>\n",
       "      <td>132.111057</td>\n",
       "    </tr>\n",
       "    <tr>\n",
       "      <th>GILD</th>\n",
       "      <th>2025-04-10 04:00:00+00:00</th>\n",
       "      <td>104.820</td>\n",
       "      <td>105.0000</td>\n",
       "      <td>99.2500</td>\n",
       "      <td>101.40</td>\n",
       "      <td>14193692.0</td>\n",
       "      <td>169595.0</td>\n",
       "      <td>101.744016</td>\n",
       "    </tr>\n",
       "  </tbody>\n",
       "</table>\n",
       "<p>503 rows × 7 columns</p>\n",
       "</div>"
      ],
      "text/plain": [
       "                                     open      high       low   close  \\\n",
       "symbol timestamp                                                        \n",
       "HBAN   2025-04-10 04:00:00+00:00   13.330   13.4051   12.4200   12.89   \n",
       "IEX    2025-04-10 04:00:00+00:00  169.410  170.3350  162.0650  166.97   \n",
       "MKTX   2025-04-10 04:00:00+00:00  204.140  212.3600  202.7950  210.32   \n",
       "ACGL   2025-04-10 04:00:00+00:00   91.190   92.2800   88.7100   90.58   \n",
       "CPAY   2025-04-10 04:00:00+00:00  313.230  314.7700  292.6700  299.74   \n",
       "...                                   ...       ...       ...     ...   \n",
       "TT     2025-04-10 04:00:00+00:00  334.660  342.3500  325.9850  338.33   \n",
       "UPS    2025-04-10 04:00:00+00:00   98.115   98.1300   93.9801   96.56   \n",
       "INVH   2025-04-10 04:00:00+00:00   31.950   32.4500   30.7800   31.64   \n",
       "JBL    2025-04-10 04:00:00+00:00  133.000  135.7500  127.8800  132.04   \n",
       "GILD   2025-04-10 04:00:00+00:00  104.820  105.0000   99.2500  101.40   \n",
       "\n",
       "                                      volume  trade_count        vwap  \n",
       "symbol timestamp                                                       \n",
       "HBAN   2025-04-10 04:00:00+00:00  28774855.0     122703.0   12.805771  \n",
       "IEX    2025-04-10 04:00:00+00:00    807815.0      21949.0  166.379202  \n",
       "MKTX   2025-04-10 04:00:00+00:00    790314.0      25194.0  208.662043  \n",
       "ACGL   2025-04-10 04:00:00+00:00   2269481.0      34303.0   90.465336  \n",
       "CPAY   2025-04-10 04:00:00+00:00    577292.0      18650.0  300.843436  \n",
       "...                                      ...          ...         ...  \n",
       "TT     2025-04-10 04:00:00+00:00   1715899.0      44157.0  337.126412  \n",
       "UPS    2025-04-10 04:00:00+00:00   7553658.0      97387.0   96.053501  \n",
       "INVH   2025-04-10 04:00:00+00:00   3461664.0      36690.0   31.552421  \n",
       "JBL    2025-04-10 04:00:00+00:00   2202985.0      39644.0  132.111057  \n",
       "GILD   2025-04-10 04:00:00+00:00  14193692.0     169595.0  101.744016  \n",
       "\n",
       "[503 rows x 7 columns]"
      ]
     },
     "execution_count": 44,
     "metadata": {},
     "output_type": "execute_result"
    }
   ],
   "source": [
    "# Create a stock client\n",
    "stock_client = StockHistoricalDataClient(API_KEY,  API_SECRET)\n",
    "# Create an SSL context using certifi\n",
    "ssl_context = ssl.create_default_context(cafile=certifi.where())\n",
    "\n",
    "# URL of the Wikipedia page (for S&P 500 symbols)\n",
    "url = \"https://en.wikipedia.org/wiki/List_of_S%26P_500_companies\"\n",
    "\n",
    "# Fetch the HTML content using urllib with the custom SSL context\n",
    "with urllib.request.urlopen(url, context=ssl_context) as response:\n",
    "    html = response.read()\n",
    "\n",
    "# Parse the HTML content using pandas\n",
    "tables = pd.read_html(html)\n",
    "sp500_table = tables[0]\n",
    "\n",
    "sp500_tickers = sp500_table['Symbol'].tolist()\n",
    "\n",
    "df_past = {}\n",
    "start = datetime.now() - relativedelta(months=6)\n",
    "end = datetime.now() - relativedelta(months=6) + timedelta(days=1)\n",
    "while(len(df_past) == 0):\n",
    "    request_params = StockBarsRequest(symbol_or_symbols=sp500_tickers,\n",
    "                            timeframe=TimeFrame.Day,\n",
    "                            start=start,\n",
    "                            end=end)\n",
    "    bars = stock_client.get_stock_bars(request_params)\n",
    "    df_past = bars.df\n",
    "    start = start - timedelta(days=1)\n",
    "    end = end-timedelta(days=1)\n",
    "df_past\n",
    "\n",
    "df_now = {}\n",
    "start = datetime.now() - timedelta(days = 2)\n",
    "end = datetime.now() - timedelta(days = 1)\n",
    "while(len(df_now) == 0):\n",
    "    request_params = StockBarsRequest(symbol_or_symbols=sp500_tickers,\n",
    "                            timeframe=TimeFrame.Day,\n",
    "                            start=start,\n",
    "                            end=end)\n",
    "    bars = stock_client.get_stock_bars(request_params)\n",
    "    df_now = bars.df\n",
    "    start = start - timedelta(days=1)\n",
    "    end = end-timedelta(days=1)\n",
    "df_now"
   ]
  },
  {
   "cell_type": "markdown",
   "metadata": {},
   "source": [
    "# Stock Data Processing"
   ]
  },
  {
   "cell_type": "code",
   "execution_count": 45,
   "metadata": {},
   "outputs": [
    {
     "name": "stdout",
     "output_type": "stream",
     "text": [
      "Returns: {'TSCO': np.float64(-0.8308336354946105), 'ANET': np.float64(-0.8257501259204182), 'MRNA': np.float64(-0.5796877680562703), 'PANW': np.float64(-0.5491157556270096), 'ENPH': np.float64(-0.5091611369713777), 'ON': np.float64(-0.5040523247547276), 'MCHP': np.float64(-0.5023082841754296), 'DOW': np.float64(-0.4925622908144292), 'MPWR': np.float64(-0.48351039457840955), 'CRL': np.float64(-0.4820438410115562), 'AMD': np.float64(-0.4716778843290249), 'ALB': np.float64(-0.4637326014506959), 'WDC': np.float64(-0.4625462392108508), 'REGN': np.float64(-0.46203983577343033), 'APA': np.float64(-0.46065755448836354), 'SWK': np.float64(-0.45646535753982953), 'TER': np.float64(-0.45197483132438776), 'SWKS': np.float64(-0.4466598150051387), 'EL': np.float64(-0.445369406867846), 'CZR': np.float64(-0.4282183778926084), 'FSLR': np.float64(-0.4222421863917916), 'LYB': np.float64(-0.42062053523829834), 'TGT': np.float64(-0.4149312129243974), 'LEN': np.float64(-0.4136034569841181), 'AES': np.float64(-0.405311778290993), 'ZBRA': np.float64(-0.4043784331502319), 'LVS': np.float64(-0.4000378286362777), 'BIIB': np.float64(-0.39813143645822274), 'BBY': np.float64(-0.3868021346469622), 'ETR': np.float64(-0.3854868340477648), 'HPQ': np.float64(-0.3820589029991894), 'DELL': np.float64(-0.38197760901902456), 'BLDR': np.float64(-0.37854922279792746), 'GNRC': np.float64(-0.37548245866697394), 'IQV': np.float64(-0.37529442554305154), 'FCX': np.float64(-0.37337597441535075), 'FANG': np.float64(-0.36828067295855565), 'ARE': np.float64(-0.36590136054421774), 'STX': np.float64(-0.3649030142974229), 'VTRS': np.float64(-0.3620386643233744), 'DHI': np.float64(-0.3552674762061043), 'DVN': np.float64(-0.354050279329609), 'NTAP': np.float64(-0.3517686914047113), 'MHK': np.float64(-0.34507310870947244), 'MU': np.float64(-0.3448372615039282), 'HAL': np.float64(-0.3423101881894874), 'CDW': np.float64(-0.3391891891891892), 'NKE': np.float64(-0.3377967133292758), 'EIX': np.float64(-0.3373998325559144), 'HPE': np.float64(-0.33526850507982586), 'OXY': np.float64(-0.3340029218407597), 'DD': np.float64(-0.33364151161446903), 'DHR': np.float64(-0.3313357747937706), 'TECH': np.float64(-0.3285169029443839), 'PHM': np.float64(-0.32701149425287346), 'AMAT': np.float64(-0.32585584706915044), 'IRM': np.float64(-0.3216719295329899), 'DECK': np.float64(-0.32012403100775194), 'GEHC': np.float64(-0.31582994617159177), 'MTD': np.float64(-0.31238843516316894), 'EMN': np.float64(-0.31229085647101373), 'WYNN': np.float64(-0.30978520286396183), 'WST': np.float64(-0.30911125428096714), 'APTV': np.float64(-0.30677514377893117), 'A': np.float64(-0.3050340703657349), 'IFF': np.float64(-0.3046951100720826), 'NXPI': np.float64(-0.30453590928181434), 'AKAM': np.float64(-0.30378046440222606), 'BF.B': np.float64(-0.3033754400496997), 'IR': np.float64(-0.29595077411671306), 'SMCI': np.float64(-0.2953974895397489), 'NDSN': np.float64(-0.29452108175512437), 'COO': np.float64(-0.29389169945662347), 'ADBE': np.float64(-0.29342779863550117), 'MRK': np.float64(-0.2932652875239224), 'HAS': np.float64(-0.2929432968251767), 'URI': np.float64(-0.2918925518925518), 'BALL': np.float64(-0.28898514851485146), 'PSX': np.float64(-0.2886688668866887), 'NCLH': np.float64(-0.2861420017108639), 'TMO': np.float64(-0.28392414393888626), 'HOLX': np.float64(-0.28379902267886237), 'IVZ': np.float64(-0.2826455624646694), 'UPS': np.float64(-0.28261515601783055), 'BXP': np.float64(-0.2809449198505484), 'OMC': np.float64(-0.28076997861170516), 'CAT': np.float64(-0.2807323018755285), 'NUE': np.float64(-0.2795734316371536), 'ALGN': np.float64(-0.2787785984507296), 'CARR': np.float64(-0.2764367111873545), 'MGM': np.float64(-0.2750882501260715), 'SLB': np.float64(-0.2733363108530594), 'TXT': np.float64(-0.2664847658026376), 'NVR': np.float64(-0.26592295727272064), 'MAS': np.float64(-0.2609893400407234), 'MPC': np.float64(-0.26013636917082666), 'PFE': np.float64(-0.25960219478738), 'MTCH': np.float64(-0.2555673382820785), 'HUBB': np.float64(-0.2512867687320674), 'EPAM': np.float64(-0.24991027021483878), 'KKR': np.float64(-0.2486909064090272), 'IT': np.float64(-0.2478607881508769), 'PYPL': np.float64(-0.2477953049310645), 'SNPS': np.float64(-0.24638835383019703), 'COP': np.float64(-0.24617612453615703), 'BG': np.float64(-0.244817984943797), 'HST': np.float64(-0.24480628860190903), 'LW': np.float64(-0.24442887175893482), 'MKTX': np.float64(-0.24372527867673507), 'ORCL': np.float64(-0.2413381123058543), 'EFX': np.float64(-0.23657082748948108), 'TXN': np.float64(-0.23650724001755163), 'AVY': np.float64(-0.2359767004540659), 'RVTY': np.float64(-0.23446629907003547), 'VLO': np.float64(-0.23415765069551775), 'IPG': np.float64(-0.23415100350430076), 'ADI': np.float64(-0.23404620802198745), 'STZ': np.float64(-0.23359329627478637), 'DAL': np.float64(-0.23319696084161307), 'ADM': np.float64(-0.23270657236501643), 'LMT': np.float64(-0.23250078620255885), 'CEG': np.float64(-0.23187589211929988), 'PPG': np.float64(-0.23173489278752435), 'BAX': np.float64(-0.22988505747126434), 'FITB': np.float64(-0.228330291970803), 'EXR': np.float64(-0.22692623431453027), 'ZTS': np.float64(-0.2266414141414142), 'LLY': np.float64(-0.22654120979336093), 'HII': np.float64(-0.22552912602644667), 'ERIE': np.float64(-0.22414438002618292), 'AOS': np.float64(-0.2225794484975888), 'FDX': np.float64(-0.21924648206990469), 'WY': np.float64(-0.2182864062973055), 'VLTO': np.float64(-0.21594625651904883), 'ODFL': np.float64(-0.21460066138891679), 'XYL': np.float64(-0.21321058015490285), 'JBHT': np.float64(-0.2130974695407685), 'TROW': np.float64(-0.21136905854285198), 'PLD': np.float64(-0.21082834331337322), 'IEX': np.float64(-0.21050640692231315), 'EOG': np.float64(-0.21019252548131365), 'ACN': np.float64(-0.20934745245883457), 'QCOM': np.float64(-0.20931874338157422), 'ACGL': np.float64(-0.20821678321678327), 'ETN': np.float64(-0.2070066492867394), 'PTC': np.float64(-0.20574585635359122), 'CSX': np.float64(-0.204233409610984), 'PRU': np.float64(-0.2040090526996443), 'CF': np.float64(-0.20316592643206927), 'CPB': np.float64(-0.20312170428179702), 'KEY': np.float64(-0.2020905923344947), 'NVDA': np.float64(-0.20200296735905057), 'FRT': np.float64(-0.20179452669358464), 'FIS': np.float64(-0.1987319884726224), 'LRCX': np.float64(-0.19857642658945582), 'IDXX': np.float64(-0.1982908854221345), 'RF': np.float64(-0.19797382861967078), 'LOW': np.float64(-0.19785320568610387), 'USB': np.float64(-0.19476869865974922), 'AMCR': np.float64(-0.193923145665773), 'PFG': np.float64(-0.19327354260089696), 'GIS': np.float64(-0.19262815986442594), 'XOM': np.float64(-0.19157026130571955), 'PNC': np.float64(-0.18964690845182944), 'PSA': np.float64(-0.18889828778111598), 'SRE': np.float64(-0.18573515092502424), 'NEE': np.float64(-0.1849499144881505), 'CMCSA': np.float64(-0.1837130392632089), 'CFG': np.float64(-0.1835249941328327), 'KLAC': np.float64(-0.18285991564331308), 'FTV': np.float64(-0.18264547551909757), 'KHC': np.float64(-0.1811470755252697), 'CHRW': np.float64(-0.18062993555414364), 'UBER': np.float64(-0.17836460504980317), 'TFC': np.float64(-0.1761442441054091), 'PEP': np.float64(-0.17544762885418463), 'GPC': np.float64(-0.17451180413873507), 'GPN': np.float64(-0.17264685418944445), 'APD': np.float64(-0.1724878418493021), 'PNR': np.float64(-0.17197582710232504), 'ALLE': np.float64(-0.17121520706042098), 'J': np.float64(-0.17051856131734805), 'PCAR': np.float64(-0.16882022471910113), 'MET': np.float64(-0.1684013565664835), 'UHS': np.float64(-0.168385200391919), 'BX': np.float64(-0.16721118661787762), 'INCY': np.float64(-0.16560798548094377), 'NOW': np.float64(-0.16524787180771158), 'LDOS': np.float64(-0.1646531100478469), 'POOL': np.float64(-0.16420280332895304), 'DOV': np.float64(-0.1632492527138287), 'AAPL': np.float64(-0.16317292902658767), 'HBAN': np.float64(-0.16244314489928524), 'CMI': np.float64(-0.16163299312643198), 'DOC': np.float64(-0.16151361329026304), 'KEYS': np.float64(-0.1609961637632853), 'PCG': np.float64(-0.1609780947529292), 'OKE': np.float64(-0.1590932615671256), 'BDX': np.float64(-0.1580549682875264), 'LUV': np.float64(-0.1577400391900719), 'INTC': np.float64(-0.15619694397283532), 'TT': np.float64(-0.15387885760016012), 'ABNB': np.float64(-0.1524553571428572), 'ROK': np.float64(-0.15120224221861642), 'MAR': np.float64(-0.15120130982751404), 'PWR': np.float64(-0.15099217891539016), 'HCA': np.float64(-0.15093526638617125), 'PKG': np.float64(-0.14911676990135353), 'MTB': np.float64(-0.14763216156379935), 'F': np.float64(-0.14738805970149255), 'KIM': np.float64(-0.1471095772217429), 'BAC': np.float64(-0.1454112038140644), 'AMGN': np.float64(-0.1429572102938937), 'CMG': np.float64(-0.14288150042625739), 'HD': np.float64(-0.1414906530711337), 'CCI': np.float64(-0.14123274072737121), 'NSC': np.float64(-0.13874565295598984), 'CNC': np.float64(-0.13873550524572056), 'CCL': np.float64(-0.13852178169358778), 'TEL': np.float64(-0.13666870042708967), 'SPG': np.float64(-0.1352031853847055), 'EG': np.float64(-0.13341455985379228), 'BLK': np.float64(-0.13277321107587908), 'CAG': np.float64(-0.132448076268301), 'LHX': np.float64(-0.13221427410177208), 'ELV': np.float64(-0.13052921016976168), 'ITW': np.float64(-0.12962891899151915), 'SHW': np.float64(-0.12950209768067755), 'MSCI': np.float64(-0.12850278241054186), 'VST': np.float64(-0.1279431718413281), 'MLM': np.float64(-0.12778491466324096), 'ES': np.float64(-0.12738953306173617), 'DAY': np.float64(-0.1266741971921898), 'GEN': np.float64(-0.1257657657657657), 'RMD': np.float64(-0.1245686250051972), 'SPGI': np.float64(-0.123081933296297), 'O': np.float64(-0.1230769230769231), 'SYF': np.float64(-0.12267168391345241), 'CLX': np.float64(-0.1210230817217717), 'WAT': np.float64(-0.1209877922730955), 'PH': np.float64(-0.12080357843521938), 'EQR': np.float64(-0.12067314270077996), 'STT': np.float64(-0.12056105977958365), 'EXPD': np.float64(-0.11998049097707683), 'BEN': np.float64(-0.11884634510193937), 'AVB': np.float64(-0.1185229031964302), 'HLT': np.float64(-0.11846470415319367), 'HSY': np.float64(-0.11770082804602638), 'SW': np.float64(-0.11688596491228066), 'CPAY': np.float64(-0.11664505481551334), 'APO': np.float64(-0.11611154696526639), 'EQIX': np.float64(-0.1156776355041534), 'DLR': np.float64(-0.11472656006968207), 'GWW': np.float64(-0.11460406989604062), 'SBUX': np.float64(-0.11459968602825749), 'CRM': np.float64(-0.11447414092329058), 'MSI': np.float64(-0.11341197589434542), 'EMR': np.float64(-0.11003034088880954), 'MCO': np.float64(-0.10961672033844802), 'CVX': np.float64(-0.10857218333113194), 'JNPR': np.float64(-0.10606451612903224), 'AXP': np.float64(-0.10598928157589817), 'HON': np.float64(-0.10463447381823243), 'ABBV': np.float64(-0.10294041917709465), 'GLW': np.float64(-0.10266896254842882), 'WAB': np.float64(-0.10258047353019421), 'ANSS': np.float64(-0.10159682453110316), 'CDNS': np.float64(-0.10046389744679336), 'HSIC': np.float64(-0.0988231958032043), 'UDR': np.float64(-0.09858188472095157), 'STLD': np.float64(-0.09525643000154026), 'UNP': np.float64(-0.09487846147497012), 'DIS': np.float64(-0.09455009030064795), 'CPT': np.float64(-0.09429218003520241), 'OTIS': np.float64(-0.09333846005959827), 'GD': np.float64(-0.09223884584557843), 'AMP': np.float64(-0.0915024875621891), 'SBAC': np.float64(-0.09125947496895209), 'HES': np.float64(-0.09034981042993058), 'FICO': np.float64(-0.08908911866075828), 'LII': np.float64(-0.0889841732335607), 'LIN': np.float64(-0.08893764239304705), 'ADSK': np.float64(-0.08786878261795718), 'FDS': np.float64(-0.08782644863291085), 'ESS': np.float64(-0.08757983893362942), 'GM': np.float64(-0.08648422811781911), 'CTSH': np.float64(-0.08480379246773766), 'ECL': np.float64(-0.08444881889763775), 'MSFT': np.float64(-0.08399788624135274), 'CL': np.float64(-0.0829170829170829), 'TDG': np.float64(-0.07956495228371692), 'JNJ': np.float64(-0.07909079648210089), 'TRMB': np.float64(-0.07887636883034438), 'KMX': np.float64(-0.07887441086775711), 'LULU': np.float64(-0.0777192761774695), 'MDT': np.float64(-0.07632050134288265), 'D': np.float64(-0.07630736392742794), 'AME': np.float64(-0.07611949058043313), 'VICI': np.float64(-0.07588325652841779), 'AFL': np.float64(-0.07575490022956029), 'MOS': np.float64(-0.07492354740061165), 'META': np.float64(-0.07400627171794233), 'PEG': np.float64(-0.07335158567191413), 'JKHY': np.float64(-0.07219980368633444), 'WDAY': np.float64(-0.06708177667081774), 'MDLZ': np.float64(-0.06623266345881677), 'CI': np.float64(-0.06574364830145597), 'GOOGL': np.float64(-0.06383239402107337), 'SYY': np.float64(-0.06369255576457934), 'INTU': np.float64(-0.06358240902899384), 'C': np.float64(-0.06312747185883773), 'INVH': np.float64(-0.0625185185185185), 'TYL': np.float64(-0.06194377618142349), 'NEM': np.float64(-0.06187845303867403), 'FE': np.float64(-0.06134394755326615), 'EBAY': np.float64(-0.05819387908940147), 'MKC': np.float64(-0.057869792965826894), 'GOOG': np.float64(-0.05561633843909558), 'GS': np.float64(-0.051326748014720015), 'AVGO': np.float64(-0.0505840864007052), 'HRL': np.float64(-0.05051480051480041), 'GE': np.float64(-0.05048127223268469), 'AMT': np.float64(-0.0499384320700507), 'VMC': np.float64(-0.048200072724334284), 'DVA': np.float64(-0.046565122785203486), 'NTRS': np.float64(-0.045893457741130565), 'ICE': np.float64(-0.045395829488835554), 'KDP': np.float64(-0.044804837822979726), 'PG': np.float64(-0.0440119235490093), 'SOLV': np.float64(-0.04358673319636042), 'CBRE': np.float64(-0.043303534815057824), 'STE': np.float64(-0.04310268840899075), 'ULTA': np.float64(-0.04217712774569592), 'IP': np.float64(-0.04129487445528107), 'AMZN': np.float64(-0.040249973519754234), 'RL': np.float64(-0.0357620486403487), 'MS': np.float64(-0.03512583740720619), 'CINF': np.float64(-0.035119876823814004), 'KMB': np.float64(-0.03346221441124774), 'BMY': np.float64(-0.03333333333333337), 'ROST': np.float64(-0.03118024553571447), 'DXCM': np.float64(-0.027597168039300634), 'BKR': np.float64(-0.027586206896551887), 'EA': np.float64(-0.026877967048310684), 'REG': np.float64(-0.026742532005689837), 'CTAS': np.float64(-0.025570776255707865), 'NOC': np.float64(-0.023850955173066034), 'HIG': np.float64(-0.021898432174505735), 'APH': np.float64(-0.021812080536912856), 'SJM': np.float64(-0.02097243622667342), 'SYK': np.float64(-0.020275590551181204), 'TRGP': np.float64(-0.02008928571428562), 'NDAQ': np.float64(-0.018430605975984463), 'JCI': np.float64(-0.0177812137611132), 'RCL': np.float64(-0.01625019162961831), 'IBM': np.float64(-0.01590499871388142), 'CB': np.float64(-0.015653871631279886), 'FAST': np.float64(-0.013407966675344793), 'MMM': np.float64(-0.01320964749536179), 'NWSA': np.float64(-0.013112225221750862), 'VRTX': np.float64(-0.01291233314649887), 'ZBH': np.float64(-0.011980676328502367), 'CSGP': np.float64(-0.011144617805165784), 'AIZ': np.float64(-0.008181770806191011), 'CTRA': np.float64(-0.007633587786259593), 'EXPE': np.float64(-0.006511627906976676), 'UNH': np.float64(-0.006103168631385298), 'MA': np.float64(-0.005813721976665504), 'ROP': np.float64(-0.0035354908893118157), 'VZ': np.float64(-0.0018604651162790302), 'SO': np.float64(-0.0007868705035970456), 'EW': np.float64(0.0019081168354617595), 'MCD': np.float64(0.0057041699449250985), 'LNT': np.float64(0.009049773755656094), 'MAA': np.float64(0.009516980640114777), 'ISRG': np.float64(0.009777631090391536), 'LH': np.float64(0.010259254124497562), 'TDY': np.float64(0.01068093727977454), 'ALL': np.float64(0.01333120883790095), 'ADP': np.float64(0.013351366347620911), 'UAL': np.float64(0.01537216828478969), 'MMC': np.float64(0.016529660075538764), 'KO': np.float64(0.017105074026160873), 'RJF': np.float64(0.017545209696036946), 'KVUE': np.float64(0.01910531220876049), 'CTVA': np.float64(0.019352568613652258), 'CBOE': np.float64(0.019514563106796168), 'K': np.float64(0.01973929236499073), 'CHD': np.float64(0.021257750221434866), 'JPM': np.float64(0.021683386567097132), 'TSN': np.float64(0.02209756926738066), 'DUK': np.float64(0.023386178505737074), 'WSM': np.float64(0.024523727052303376), 'RTX': np.float64(0.02533688372468318), 'CHTR': np.float64(0.02889127434442575), 'BA': np.float64(0.02979737783075089), 'AWK': np.float64(0.03082019154605027), 'DTE': np.float64(0.03107231520781609), 'CMS': np.float64(0.031871935390827714), 'BK': np.float64(0.033175994605529245), 'BR': np.float64(0.0346108543988402), 'WFC': np.float64(0.03475979668798159), 'NRG': np.float64(0.03498607242339834), 'CVS': np.float64(0.03511931562359303), 'GDDY': np.float64(0.03598357138478517), 'TRV': np.float64(0.036309070927381754), 'MOH': np.float64(0.03804677087119836), 'AON': np.float64(0.039053920878502055), 'PAYX': np.float64(0.039743682050543676), 'DLTR': np.float64(0.040615027560197234), 'COF': np.float64(0.041623843782117094), 'VTR': np.float64(0.04209690230341527), 'CSCO': np.float64(0.043133640552995456), 'KMI': np.float64(0.04412955465587044), 'BKNG': np.float64(0.048990251427744755), 'CPRT': np.float64(0.048998569384835385), 'AEP': np.float64(0.050381679389313004), 'PNW': np.float64(0.050989522700814846), 'LKQ': np.float64(0.053022540983606564), 'AIG': np.float64(0.05334714489188126), 'DPZ': np.float64(0.05441385249144691), 'PARA': np.float64(0.05507246376811597), 'DG': np.float64(0.056249242332403936), 'ED': np.float64(0.05844409695074281), 'JBL': np.float64(0.0628672623359896), 'L': np.float64(0.06326402016383126), 'BSX': np.float64(0.06360505166475323), 'VRSK': np.float64(0.06542892293926836), 'WM': np.float64(0.0691185496435484), 'ATO': np.float64(0.07125430539609628), 'ABT': np.float64(0.0721667240785394), 'FI': np.float64(0.07370633044391911), 'PGR': np.float64(0.07513085914439767), 'WBD': np.float64(0.0771276595744681), 'PPL': np.float64(0.07852412488174083), 'PODD': np.float64(0.07880737880737883), 'NWS': np.float64(0.07956204379562043), 'DE': np.float64(0.08054393305439334), 'COST': np.float64(0.08467655759648153), 'YUM': np.float64(0.0856588568870317), 'DFS': np.float64(0.08785405664906386), 'ROL': np.float64(0.08960934353604517), 'WMB': np.float64(0.09092709984152146), 'SCHW': np.float64(0.09116430260047262), 'WTW': np.float64(0.09174912940040691), 'XEL': np.float64(0.09789760873054075), 'GL': np.float64(0.10038968268695485), 'TAP': np.float64(0.10101010101010101), 'DGX': np.float64(0.10210533396112201), 'EVRG': np.float64(0.10347152005392653), 'SNA': np.float64(0.104691408793393), 'WEC': np.float64(0.10539549502357257), 'AEE': np.float64(0.11879699248120296), 'BRO': np.float64(0.11942720763723155), 'NI': np.float64(0.12024756852343055), 'TJX': np.float64(0.12081245054075437), 'BRK.B': np.float64(0.12081441081245511), 'TPL': np.float64(0.1211711796829236), 'HUM': np.float64(0.12469485023443255), 'LYV': np.float64(0.12559881543419552), 'MNST': np.float64(0.12590138374585852), 'GRMN': np.float64(0.12622822352161087), 'WMT': np.float64(0.13121098626716612), 'MO': np.float64(0.13121990369181377), 'AJG': np.float64(0.13132576152269806), 'WELL': np.float64(0.13284869787505987), 'EXC': np.float64(0.13537996980372408), 'TKO': np.float64(0.13778230865746555), 'EXE': np.float64(0.13914635541824003), 'FFIV': np.float64(0.14544964513520794), 'CAH': np.float64(0.1454981779397386), 'WRB': np.float64(0.14580843435205734), 'CRWD': np.float64(0.15115080728272082), 'AZO': np.float64(0.1551099438299176), 'ORLY': np.float64(0.1564844677608144), 'TSLA': np.float64(0.15886134067952246), 'WBA': np.float64(0.1606948968512485), 'GEV': np.float64(0.16133987785229872), 'FTNT': np.float64(0.16230240135151427), 'CME': np.float64(0.16538877863972573), 'V': np.float64(0.16833429311834164), 'RSG': np.float64(0.1750635883388769), 'GILD': np.float64(0.1936433195997646), 'DASH': np.float64(0.19459314775160608), 'HWM': np.float64(0.19620497014062807), 'FOXA': np.float64(0.19642425706692443), 'TMUS': np.float64(0.20221554637626743), 'FOX': np.float64(0.21078947368421047), 'CNP': np.float64(0.22387554954345612), 'DRI': np.float64(0.22530627871362943), 'KR': np.float64(0.22651734104046253), 'T': np.float64(0.23490875058493213), 'COR': np.float64(0.2542685118619697), 'PM': np.float64(0.2587010824313072), 'AXON': np.float64(0.2672996459607338), 'NFLX': np.float64(0.27446422889082583), 'VRSN': np.float64(0.2911749069643807), 'PAYC': np.float64(0.2936615384615385), 'EQT': np.float64(0.2961774926490245), 'TTWO': np.float64(0.3180513911725827), 'MCK': np.float64(0.34363812575406966), 'TPR': np.float64(0.41197260879169423), 'PLTR': np.float64(1.036083658928982)}\n",
      "\n",
      "Summary Statistics:\n",
      "Number of Stocks: 503.0000\n",
      "Mean Return: -0.1115\n",
      "Median Return: -0.1157\n",
      "Standard Deviation: 0.1827\n",
      "Minimum Return: -0.8308\n",
      "Maximum Return: 1.0361\n"
     ]
    }
   ],
   "source": [
    "# stock data processing\n",
    "closing_prc_past = df_past['close']\n",
    "closing_prc_now = df_now['close']\n",
    "\n",
    "# Calculate returns\n",
    "returns = {}\n",
    "for symbol, _ in closing_prc_now.keys():\n",
    "    if(symbol in closing_prc_past.keys()):\n",
    "        returns[symbol] = (closing_prc_now[symbol].iloc[0] - closing_prc_past[symbol].iloc[0]) / closing_prc_past[symbol].iloc[0]\n",
    "\n",
    "# Sort returns by value (ascending order)\n",
    "returns = dict(sorted(returns.items(), key=lambda item: item[1]))\n",
    "\n",
    "\n",
    "returns_values = list(returns.values())\n",
    "summary_stats = {\n",
    "    \"Number of Stocks\": len(returns),\n",
    "    \"Mean Return\": np.mean(returns_values),\n",
    "    \"Median Return\": np.median(returns_values),\n",
    "    \"Standard Deviation\": np.std(returns_values),\n",
    "    \"Minimum Return\": np.min(returns_values),\n",
    "    \"Maximum Return\": np.max(returns_values)\n",
    "}\n",
    "\n",
    "# Display results\n",
    "print(\"Returns:\", returns)\n",
    "print(\"\\nSummary Statistics:\")\n",
    "for stat, value in summary_stats.items():\n",
    "    print(f\"{stat}: {value:.4f}\")"
   ]
  },
  {
   "cell_type": "markdown",
   "metadata": {},
   "source": [
    "# Implementing Strategy"
   ]
  },
  {
   "cell_type": "code",
   "execution_count": 46,
   "metadata": {},
   "outputs": [
    {
     "name": "stdout",
     "output_type": "stream",
     "text": [
      "Filtered Lowest Stocks: [('TSCO', np.float64(-0.8308336354946105)), ('ANET', np.float64(-0.8257501259204182)), ('MRNA', np.float64(-0.5796877680562703)), ('PANW', np.float64(-0.5491157556270096)), ('ENPH', np.float64(-0.5091611369713777)), ('ON', np.float64(-0.5040523247547276)), ('MCHP', np.float64(-0.5023082841754296)), ('DOW', np.float64(-0.4925622908144292)), ('MPWR', np.float64(-0.48351039457840955)), ('CRL', np.float64(-0.4820438410115562)), ('AMD', np.float64(-0.4716778843290249)), ('ALB', np.float64(-0.4637326014506959)), ('WDC', np.float64(-0.4625462392108508)), ('REGN', np.float64(-0.46203983577343033)), ('APA', np.float64(-0.46065755448836354)), ('SWK', np.float64(-0.45646535753982953)), ('TER', np.float64(-0.45197483132438776)), ('SWKS', np.float64(-0.4466598150051387)), ('EL', np.float64(-0.445369406867846)), ('CZR', np.float64(-0.4282183778926084)), ('FSLR', np.float64(-0.4222421863917916)), ('LYB', np.float64(-0.42062053523829834)), ('TGT', np.float64(-0.4149312129243974)), ('LEN', np.float64(-0.4136034569841181)), ('AES', np.float64(-0.405311778290993)), ('ZBRA', np.float64(-0.4043784331502319)), ('LVS', np.float64(-0.4000378286362777)), ('BIIB', np.float64(-0.39813143645822274)), ('BBY', np.float64(-0.3868021346469622)), ('ETR', np.float64(-0.3854868340477648)), ('HPQ', np.float64(-0.3820589029991894)), ('DELL', np.float64(-0.38197760901902456)), ('BLDR', np.float64(-0.37854922279792746)), ('GNRC', np.float64(-0.37548245866697394)), ('IQV', np.float64(-0.37529442554305154)), ('FCX', np.float64(-0.37337597441535075)), ('FANG', np.float64(-0.36828067295855565)), ('ARE', np.float64(-0.36590136054421774)), ('STX', np.float64(-0.3649030142974229)), ('VTRS', np.float64(-0.3620386643233744)), ('DHI', np.float64(-0.3552674762061043)), ('DVN', np.float64(-0.354050279329609)), ('NTAP', np.float64(-0.3517686914047113)), ('MHK', np.float64(-0.34507310870947244)), ('MU', np.float64(-0.3448372615039282)), ('HAL', np.float64(-0.3423101881894874)), ('CDW', np.float64(-0.3391891891891892)), ('NKE', np.float64(-0.3377967133292758)), ('EIX', np.float64(-0.3373998325559144)), ('HPE', np.float64(-0.33526850507982586))]\n",
      "Highest Stocks: [('BRO', np.float64(0.11942720763723155)), ('NI', np.float64(0.12024756852343055)), ('TJX', np.float64(0.12081245054075437)), ('BRK.B', np.float64(0.12081441081245511)), ('TPL', np.float64(0.1211711796829236)), ('HUM', np.float64(0.12469485023443255)), ('LYV', np.float64(0.12559881543419552)), ('MNST', np.float64(0.12590138374585852)), ('GRMN', np.float64(0.12622822352161087)), ('WMT', np.float64(0.13121098626716612)), ('MO', np.float64(0.13121990369181377)), ('AJG', np.float64(0.13132576152269806)), ('WELL', np.float64(0.13284869787505987)), ('EXC', np.float64(0.13537996980372408)), ('TKO', np.float64(0.13778230865746555)), ('EXE', np.float64(0.13914635541824003)), ('FFIV', np.float64(0.14544964513520794)), ('CAH', np.float64(0.1454981779397386)), ('WRB', np.float64(0.14580843435205734)), ('CRWD', np.float64(0.15115080728272082)), ('AZO', np.float64(0.1551099438299176)), ('ORLY', np.float64(0.1564844677608144)), ('TSLA', np.float64(0.15886134067952246)), ('WBA', np.float64(0.1606948968512485)), ('GEV', np.float64(0.16133987785229872)), ('FTNT', np.float64(0.16230240135151427)), ('CME', np.float64(0.16538877863972573)), ('V', np.float64(0.16833429311834164)), ('RSG', np.float64(0.1750635883388769)), ('GILD', np.float64(0.1936433195997646)), ('DASH', np.float64(0.19459314775160608)), ('HWM', np.float64(0.19620497014062807)), ('FOXA', np.float64(0.19642425706692443)), ('TMUS', np.float64(0.20221554637626743)), ('FOX', np.float64(0.21078947368421047)), ('CNP', np.float64(0.22387554954345612)), ('DRI', np.float64(0.22530627871362943)), ('KR', np.float64(0.22651734104046253)), ('T', np.float64(0.23490875058493213)), ('COR', np.float64(0.2542685118619697)), ('PM', np.float64(0.2587010824313072)), ('AXON', np.float64(0.2672996459607338)), ('NFLX', np.float64(0.27446422889082583)), ('VRSN', np.float64(0.2911749069643807)), ('PAYC', np.float64(0.2936615384615385)), ('EQT', np.float64(0.2961774926490245)), ('TTWO', np.float64(0.3180513911725827)), ('MCK', np.float64(0.34363812575406966)), ('TPR', np.float64(0.41197260879169423)), ('PLTR', np.float64(1.036083658928982))]\n"
     ]
    }
   ],
   "source": [
    "# Number of stocks to select\n",
    "num_stocks = len(returns)\n",
    "num_lowest = int(num_stocks * 0.1)\n",
    "num_highest = int(num_stocks * 0.1)\n",
    "\n",
    "# Sort stocks by returns\n",
    "sorted_items = sorted(returns.items(), key=lambda item: item[1])\n",
    "\n",
    "# Filter non-shortable stocks for lowest_stocks\n",
    "lowest_stocks = []\n",
    "for stock in sorted_items[:num_lowest]:\n",
    "    symbol = stock[0]\n",
    "    asset = trading_client.get_asset(symbol)\n",
    "    if asset.shortable:\n",
    "        lowest_stocks.append(stock)\n",
    "    else:\n",
    "        print(f\"Skipping {symbol}: Asset is not shortable\")\n",
    "\n",
    "# Select highest_stocks (no shortability check needed for long positions)\n",
    "highest_stocks = sorted_items[-num_highest:]\n",
    "\n",
    "# Output filtered results\n",
    "print(\"Filtered Lowest Stocks:\", lowest_stocks)\n",
    "print(\"Highest Stocks:\", highest_stocks)"
   ]
  },
  {
   "cell_type": "markdown",
   "metadata": {},
   "source": [
    "# Placing Orders According to Strategy"
   ]
  },
  {
   "cell_type": "code",
   "execution_count": 47,
   "metadata": {},
   "outputs": [
    {
     "name": "stdout",
     "output_type": "stream",
     "text": [
      "Short sell order submitted for TSCO\n",
      "Short sell order submitted for ANET\n",
      "Short sell order submitted for MRNA\n",
      "Short sell order submitted for PANW\n",
      "Short sell order submitted for ENPH\n",
      "Short sell order submitted for ON\n",
      "Short sell order submitted for MCHP\n",
      "Short sell order submitted for DOW\n",
      "Short sell order submitted for CRL\n",
      "Short sell order submitted for AMD\n",
      "Short sell order submitted for ALB\n",
      "Short sell order submitted for WDC\n",
      "Short sell order submitted for APA\n",
      "Short sell order submitted for SWK\n",
      "Short sell order submitted for TER\n",
      "Short sell order submitted for SWKS\n",
      "Short sell order submitted for EL\n",
      "Short sell order submitted for CZR\n",
      "Short sell order submitted for FSLR\n",
      "Short sell order submitted for LYB\n",
      "Short sell order submitted for TGT\n",
      "Short sell order submitted for LEN\n",
      "Short sell order submitted for AES\n",
      "Short sell order submitted for LVS\n",
      "Short sell order submitted for BIIB\n",
      "Short sell order submitted for BBY\n",
      "Short sell order submitted for ETR\n",
      "Short sell order submitted for HPQ\n",
      "Short sell order submitted for DELL\n",
      "Short sell order submitted for BLDR\n",
      "Short sell order submitted for GNRC\n",
      "Short sell order submitted for IQV\n",
      "Short sell order submitted for FCX\n",
      "Short sell order submitted for FANG\n",
      "Short sell order submitted for ARE\n",
      "Short sell order submitted for STX\n",
      "Short sell order submitted for VTRS\n",
      "Short sell order submitted for DHI\n",
      "Short sell order submitted for DVN\n",
      "Short sell order submitted for NTAP\n",
      "Short sell order submitted for MHK\n",
      "Short sell order submitted for MU\n",
      "Short sell order submitted for HAL\n",
      "Short sell order submitted for CDW\n",
      "Short sell order submitted for NKE\n",
      "Short sell order submitted for EIX\n",
      "Short sell order submitted for HPE\n"
     ]
    }
   ],
   "source": [
    "trading_client = TradingClient(API_KEY, API_SECRET, paper=True)\n",
    "\n",
    "money_to_invest = 10000\n",
    "money_per_stock = money_to_invest / len(lowest_stocks)\n",
    "\n",
    "for entry in lowest_stocks:\n",
    "    symbol = entry[0]\n",
    "    asset = trading_client.get_asset(symbol)\n",
    "    if not asset.shortable:\n",
    "        print(f\"Skipping {symbol}: Asset is not shortable\")\n",
    "        continue\n",
    "\n",
    "    quantity = money_per_stock / closing_prc_now[symbol].iloc[0]\n",
    "    if math.floor(quantity) > 0:\n",
    "        market_order_data = MarketOrderRequest(\n",
    "            symbol=symbol,\n",
    "            qty=math.floor(quantity),\n",
    "            side=OrderSide.SELL,\n",
    "            time_in_force=TimeInForce.DAY\n",
    "        )\n",
    "        try:\n",
    "            market_order = trading_client.submit_order(order_data=market_order_data)\n",
    "            print(f\"Short sell order submitted for {symbol}\")\n",
    "        except Exception as e:\n",
    "            print(f\"Error placing order for {symbol}: {e}\")\n",
    "\n"
   ]
  },
  {
   "cell_type": "markdown",
   "metadata": {},
   "source": [
    "# Portfolio Performance"
   ]
  },
  {
   "cell_type": "code",
   "execution_count": 48,
   "metadata": {},
   "outputs": [
    {
     "name": "stderr",
     "output_type": "stream",
     "text": [
      "C:\\Users\\wy7664\\AppData\\Local\\Temp\\ipykernel_9272\\2581327716.py:17: DeprecationWarning: datetime.datetime.utcfromtimestamp() is deprecated and scheduled for removal in a future version. Use timezone-aware objects to represent datetimes in UTC: datetime.datetime.fromtimestamp(timestamp, datetime.UTC).\n",
      "  dates = [datetime.utcfromtimestamp(ts) for ts in timestamps]\n"
     ]
    },
    {
     "data": {
      "image/png": "[encoded data removed]",
      "text/plain": [
       "<Figure size 1000x600 with 1 Axes>"
      ]
     },
     "metadata": {},
     "output_type": "display_data"
    }
   ],
   "source": [
    "# Initialize REST client\n",
    "api = REST(API_KEY, API_SECRET, BASE_URL)\n",
    "\n",
    "# Fetch historical portfolio data\n",
    "try:\n",
    "    # Retrieve portfolio history\n",
    "    history = api.get_portfolio_history(\n",
    "        timeframe=\"1D\",   # Interval for data points (\"1Min\", \"5Min\", \"1H\", \"1D\")\n",
    "        period=\"1M\"       # Duration of history (\"1D\", \"1W\", \"1M\", \"1Y\", \"all\")\n",
    "    )\n",
    "\n",
    "    # Extract timestamps and equity values\n",
    "    timestamps = history.timestamp\n",
    "    equity_values = history.equity\n",
    "\n",
    "    # Convert timestamps to human-readable dates\n",
    "    dates = [datetime.utcfromtimestamp(ts) for ts in timestamps]\n",
    "\n",
    "    # Plot the historical portfolio value\n",
    "    plt.figure(figsize=(10, 6))\n",
    "    plt.plot(dates, equity_values, marker='o', linestyle='-', label=\"Portfolio Value\")\n",
    "    plt.title(\"Historical Portfolio Value\")\n",
    "    plt.xlabel(\"Date\")\n",
    "    plt.ylabel(\"Portfolio Value (USD)\")\n",
    "    plt.grid()\n",
    "    plt.legend()\n",
    "    plt.xticks(rotation=45)\n",
    "    plt.tight_layout()\n",
    "    plt.show()\n",
    "\n",
    "except Exception as e:\n",
    "    print(f\"Error fetching portfolio history: {e}\")"
   ]
  }
 ],
 "metadata": {
  "kernelspec": {
   "display_name": "Python 3",
   "language": "python",
   "name": "python3"
  },
  "language_info": {
   "codemirror_mode": {
    "name": "ipython",
    "version": 3
   },
   "file_extension": ".py",
   "mimetype": "text/x-python",
   "name": "python",
   "nbconvert_exporter": "python",
   "pygments_lexer": "ipython3",
   "version": "3.13.3"
  }
 },
 "nbformat": 4,
 "nbformat_minor": 2
}
