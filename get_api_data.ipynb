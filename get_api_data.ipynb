{
  "cells": [
    {
      "cell_type": "markdown",
      "metadata": {},
      "source": [
        "# Initializing Packages and Libraries"
      ]
    },
    {
      "cell_type": "code",
      "execution_count": 39,
      "metadata": {},
      "outputs": [
        {
          "name": "stdout",
          "output_type": "stream",
          "text": [
            "Requirement already satisfied: alpaca-py in c:\\users\\wy7664\\appdata\\local\\programs\\python\\python313\\lib\\site-packages (0.39.1)\n",
            "Requirement already satisfied: msgpack<2.0.0,>=1.0.3 in c:\\users\\wy7664\\appdata\\local\\programs\\python\\python313\\lib\\site-packages (from alpaca-py) (1.0.3)\n",
            "Requirement already satisfied: pandas>=1.5.3 in c:\\users\\wy7664\\appdata\\local\\programs\\python\\python313\\lib\\site-packages (from alpaca-py) (2.2.3)\n",
            "Requirement already satisfied: pydantic<3.0.0,>=2.0.3 in c:\\users\\wy7664\\appdata\\local\\programs\\python\\python313\\lib\\site-packages (from alpaca-py) (2.11.3)\n",
            "Requirement already satisfied: requests<3.0.0,>=2.30.0 in c:\\users\\wy7664\\appdata\\local\\programs\\python\\python313\\lib\\site-packages (from alpaca-py) (2.32.3)\n",
            "Requirement already satisfied: sseclient-py<2.0.0,>=1.7.2 in c:\\users\\wy7664\\appdata\\local\\programs\\python\\python313\\lib\\site-packages (from alpaca-py) (1.8.0)\n",
            "Requirement already satisfied: websockets>=10.4 in c:\\users\\wy7664\\appdata\\local\\programs\\python\\python313\\lib\\site-packages (from alpaca-py) (10.4)\n",
            "Requirement already satisfied: numpy>=1.26.0 in c:\\users\\wy7664\\appdata\\local\\programs\\python\\python313\\lib\\site-packages (from pandas>=1.5.3->alpaca-py) (2.2.4)\n",
            "Requirement already satisfied: python-dateutil>=2.8.2 in c:\\users\\wy7664\\appdata\\roaming\\python\\python313\\site-packages (from pandas>=1.5.3->alpaca-py) (2.9.0.post0)\n",
            "Requirement already satisfied: pytz>=2020.1 in c:\\users\\wy7664\\appdata\\local\\programs\\python\\python313\\lib\\site-packages (from pandas>=1.5.3->alpaca-py) (2025.2)\n",
            "Requirement already satisfied: tzdata>=2022.7 in c:\\users\\wy7664\\appdata\\local\\programs\\python\\python313\\lib\\site-packages (from pandas>=1.5.3->alpaca-py) (2025.2)\n",
            "Requirement already satisfied: annotated-types>=0.6.0 in c:\\users\\wy7664\\appdata\\local\\programs\\python\\python313\\lib\\site-packages (from pydantic<3.0.0,>=2.0.3->alpaca-py) (0.7.0)\n",
            "Requirement already satisfied: pydantic-core==2.33.1 in c:\\users\\wy7664\\appdata\\local\\programs\\python\\python313\\lib\\site-packages (from pydantic<3.0.0,>=2.0.3->alpaca-py) (2.33.1)\n",
            "Requirement already satisfied: typing-extensions>=4.12.2 in c:\\users\\wy7664\\appdata\\local\\programs\\python\\python313\\lib\\site-packages (from pydantic<3.0.0,>=2.0.3->alpaca-py) (4.13.1)\n",
            "Requirement already satisfied: typing-inspection>=0.4.0 in c:\\users\\wy7664\\appdata\\local\\programs\\python\\python313\\lib\\site-packages (from pydantic<3.0.0,>=2.0.3->alpaca-py) (0.4.0)\n",
            "Requirement already satisfied: charset-normalizer<4,>=2 in c:\\users\\wy7664\\appdata\\local\\programs\\python\\python313\\lib\\site-packages (from requests<3.0.0,>=2.30.0->alpaca-py) (3.4.1)\n",
            "Requirement already satisfied: idna<4,>=2.5 in c:\\users\\wy7664\\appdata\\local\\programs\\python\\python313\\lib\\site-packages (from requests<3.0.0,>=2.30.0->alpaca-py) (3.10)\n",
            "Requirement already satisfied: urllib3<3,>=1.21.1 in c:\\users\\wy7664\\appdata\\local\\programs\\python\\python313\\lib\\site-packages (from requests<3.0.0,>=2.30.0->alpaca-py) (1.26.20)\n",
            "Requirement already satisfied: certifi>=2017.4.17 in c:\\users\\wy7664\\appdata\\local\\programs\\python\\python313\\lib\\site-packages (from requests<3.0.0,>=2.30.0->alpaca-py) (2025.1.31)\n",
            "Requirement already satisfied: six>=1.5 in c:\\users\\wy7664\\appdata\\roaming\\python\\python313\\site-packages (from python-dateutil>=2.8.2->pandas>=1.5.3->alpaca-py) (1.17.0)\n",
            "Requirement already satisfied: alpaca-trade-api in c:\\users\\wy7664\\appdata\\local\\programs\\python\\python313\\lib\\site-packages (3.2.0)\n",
            "Requirement already satisfied: pandas>=0.18.1 in c:\\users\\wy7664\\appdata\\local\\programs\\python\\python313\\lib\\site-packages (from alpaca-trade-api) (2.2.3)\n",
            "Requirement already satisfied: numpy>=1.11.1 in c:\\users\\wy7664\\appdata\\local\\programs\\python\\python313\\lib\\site-packages (from alpaca-trade-api) (2.2.4)\n",
            "Requirement already satisfied: requests<3,>2 in c:\\users\\wy7664\\appdata\\local\\programs\\python\\python313\\lib\\site-packages (from alpaca-trade-api) (2.32.3)\n",
            "Requirement already satisfied: urllib3<2,>1.24 in c:\\users\\wy7664\\appdata\\local\\programs\\python\\python313\\lib\\site-packages (from alpaca-trade-api) (1.26.20)\n",
            "Requirement already satisfied: websocket-client<2,>=0.56.0 in c:\\users\\wy7664\\appdata\\local\\programs\\python\\python313\\lib\\site-packages (from alpaca-trade-api) (1.8.0)\n",
            "Requirement already satisfied: websockets<11,>=9.0 in c:\\users\\wy7664\\appdata\\local\\programs\\python\\python313\\lib\\site-packages (from alpaca-trade-api) (10.4)\n",
            "Requirement already satisfied: msgpack==1.0.3 in c:\\users\\wy7664\\appdata\\local\\programs\\python\\python313\\lib\\site-packages (from alpaca-trade-api) (1.0.3)\n",
            "Requirement already satisfied: aiohttp<4,>=3.8.3 in c:\\users\\wy7664\\appdata\\local\\programs\\python\\python313\\lib\\site-packages (from alpaca-trade-api) (3.11.16)\n",
            "Requirement already satisfied: PyYAML==6.0.1 in c:\\users\\wy7664\\appdata\\local\\programs\\python\\python313\\lib\\site-packages (from alpaca-trade-api) (6.0.1)\n",
            "Requirement already satisfied: deprecation==2.1.0 in c:\\users\\wy7664\\appdata\\local\\programs\\python\\python313\\lib\\site-packages (from alpaca-trade-api) (2.1.0)\n",
            "Requirement already satisfied: packaging in c:\\users\\wy7664\\appdata\\roaming\\python\\python313\\site-packages (from deprecation==2.1.0->alpaca-trade-api) (24.2)\n",
            "Requirement already satisfied: aiohappyeyeballs>=2.3.0 in c:\\users\\wy7664\\appdata\\local\\programs\\python\\python313\\lib\\site-packages (from aiohttp<4,>=3.8.3->alpaca-trade-api) (2.6.1)\n",
            "Requirement already satisfied: aiosignal>=1.1.2 in c:\\users\\wy7664\\appdata\\local\\programs\\python\\python313\\lib\\site-packages (from aiohttp<4,>=3.8.3->alpaca-trade-api) (1.3.2)\n",
            "Requirement already satisfied: attrs>=17.3.0 in c:\\users\\wy7664\\appdata\\local\\programs\\python\\python313\\lib\\site-packages (from aiohttp<4,>=3.8.3->alpaca-trade-api) (25.3.0)\n",
            "Requirement already satisfied: frozenlist>=1.1.1 in c:\\users\\wy7664\\appdata\\local\\programs\\python\\python313\\lib\\site-packages (from aiohttp<4,>=3.8.3->alpaca-trade-api) (1.5.0)\n",
            "Requirement already satisfied: multidict<7.0,>=4.5 in c:\\users\\wy7664\\appdata\\local\\programs\\python\\python313\\lib\\site-packages (from aiohttp<4,>=3.8.3->alpaca-trade-api) (6.4.2)\n",
            "Requirement already satisfied: propcache>=0.2.0 in c:\\users\\wy7664\\appdata\\local\\programs\\python\\python313\\lib\\site-packages (from aiohttp<4,>=3.8.3->alpaca-trade-api) (0.3.1)\n",
            "Requirement already satisfied: yarl<2.0,>=1.17.0 in c:\\users\\wy7664\\appdata\\local\\programs\\python\\python313\\lib\\site-packages (from aiohttp<4,>=3.8.3->alpaca-trade-api) (1.19.0)\n",
            "Requirement already satisfied: python-dateutil>=2.8.2 in c:\\users\\wy7664\\appdata\\roaming\\python\\python313\\site-packages (from pandas>=0.18.1->alpaca-trade-api) (2.9.0.post0)\n",
            "Requirement already satisfied: pytz>=2020.1 in c:\\users\\wy7664\\appdata\\local\\programs\\python\\python313\\lib\\site-packages (from pandas>=0.18.1->alpaca-trade-api) (2025.2)\n",
            "Requirement already satisfied: tzdata>=2022.7 in c:\\users\\wy7664\\appdata\\local\\programs\\python\\python313\\lib\\site-packages (from pandas>=0.18.1->alpaca-trade-api) (2025.2)\n",
            "Requirement already satisfied: charset-normalizer<4,>=2 in c:\\users\\wy7664\\appdata\\local\\programs\\python\\python313\\lib\\site-packages (from requests<3,>2->alpaca-trade-api) (3.4.1)\n",
            "Requirement already satisfied: idna<4,>=2.5 in c:\\users\\wy7664\\appdata\\local\\programs\\python\\python313\\lib\\site-packages (from requests<3,>2->alpaca-trade-api) (3.10)\n",
            "Requirement already satisfied: certifi>=2017.4.17 in c:\\users\\wy7664\\appdata\\local\\programs\\python\\python313\\lib\\site-packages (from requests<3,>2->alpaca-trade-api) (2025.1.31)\n",
            "Requirement already satisfied: six>=1.5 in c:\\users\\wy7664\\appdata\\roaming\\python\\python313\\site-packages (from python-dateutil>=2.8.2->pandas>=0.18.1->alpaca-trade-api) (1.17.0)\n",
            "Requirement already satisfied: selenium in c:\\users\\wy7664\\appdata\\local\\programs\\python\\python313\\lib\\site-packages (4.31.0)\n",
            "Requirement already satisfied: urllib3<3,>=1.26 in c:\\users\\wy7664\\appdata\\local\\programs\\python\\python313\\lib\\site-packages (from urllib3[socks]<3,>=1.26->selenium) (1.26.20)\n",
            "Requirement already satisfied: trio~=0.17 in c:\\users\\wy7664\\appdata\\local\\programs\\python\\python313\\lib\\site-packages (from selenium) (0.29.0)\n",
            "Requirement already satisfied: trio-websocket~=0.9 in c:\\users\\wy7664\\appdata\\local\\programs\\python\\python313\\lib\\site-packages (from selenium) (0.12.2)\n",
            "Requirement already satisfied: certifi>=2021.10.8 in c:\\users\\wy7664\\appdata\\local\\programs\\python\\python313\\lib\\site-packages (from selenium) (2025.1.31)\n",
            "Requirement already satisfied: typing_extensions~=4.9 in c:\\users\\wy7664\\appdata\\local\\programs\\python\\python313\\lib\\site-packages (from selenium) (4.13.1)\n",
            "Requirement already satisfied: websocket-client~=1.8 in c:\\users\\wy7664\\appdata\\local\\programs\\python\\python313\\lib\\site-packages (from selenium) (1.8.0)\n",
            "Requirement already satisfied: attrs>=23.2.0 in c:\\users\\wy7664\\appdata\\local\\programs\\python\\python313\\lib\\site-packages (from trio~=0.17->selenium) (25.3.0)\n",
            "Requirement already satisfied: sortedcontainers in c:\\users\\wy7664\\appdata\\local\\programs\\python\\python313\\lib\\site-packages (from trio~=0.17->selenium) (2.4.0)\n",
            "Requirement already satisfied: idna in c:\\users\\wy7664\\appdata\\local\\programs\\python\\python313\\lib\\site-packages (from trio~=0.17->selenium) (3.10)\n",
            "Requirement already satisfied: outcome in c:\\users\\wy7664\\appdata\\local\\programs\\python\\python313\\lib\\site-packages (from trio~=0.17->selenium) (1.3.0.post0)\n",
            "Requirement already satisfied: sniffio>=1.3.0 in c:\\users\\wy7664\\appdata\\local\\programs\\python\\python313\\lib\\site-packages (from trio~=0.17->selenium) (1.3.1)\n",
            "Requirement already satisfied: cffi>=1.14 in c:\\users\\wy7664\\appdata\\local\\programs\\python\\python313\\lib\\site-packages (from trio~=0.17->selenium) (1.17.1)\n",
            "Requirement already satisfied: wsproto>=0.14 in c:\\users\\wy7664\\appdata\\local\\programs\\python\\python313\\lib\\site-packages (from trio-websocket~=0.9->selenium) (1.2.0)\n",
            "Requirement already satisfied: PySocks!=1.5.7,<2.0,>=1.5.6 in c:\\users\\wy7664\\appdata\\local\\programs\\python\\python313\\lib\\site-packages (from urllib3[socks]<3,>=1.26->selenium) (1.7.1)\n",
            "Requirement already satisfied: pycparser in c:\\users\\wy7664\\appdata\\local\\programs\\python\\python313\\lib\\site-packages (from cffi>=1.14->trio~=0.17->selenium) (2.22)\n",
            "Requirement already satisfied: h11<1,>=0.9.0 in c:\\users\\wy7664\\appdata\\local\\programs\\python\\python313\\lib\\site-packages (from wsproto>=0.14->trio-websocket~=0.9->selenium) (0.14.0)\n",
            "Requirement already satisfied: webdriver-manager in c:\\users\\wy7664\\appdata\\local\\programs\\python\\python313\\lib\\site-packages (4.0.2)\n",
            "Requirement already satisfied: requests in c:\\users\\wy7664\\appdata\\local\\programs\\python\\python313\\lib\\site-packages (from webdriver-manager) (2.32.3)\n",
            "Requirement already satisfied: python-dotenv in c:\\users\\wy7664\\appdata\\local\\programs\\python\\python313\\lib\\site-packages (from webdriver-manager) (1.1.0)\n",
            "Requirement already satisfied: packaging in c:\\users\\wy7664\\appdata\\roaming\\python\\python313\\site-packages (from webdriver-manager) (24.2)\n",
            "Requirement already satisfied: charset-normalizer<4,>=2 in c:\\users\\wy7664\\appdata\\local\\programs\\python\\python313\\lib\\site-packages (from requests->webdriver-manager) (3.4.1)\n",
            "Requirement already satisfied: idna<4,>=2.5 in c:\\users\\wy7664\\appdata\\local\\programs\\python\\python313\\lib\\site-packages (from requests->webdriver-manager) (3.10)\n",
            "Requirement already satisfied: urllib3<3,>=1.21.1 in c:\\users\\wy7664\\appdata\\local\\programs\\python\\python313\\lib\\site-packages (from requests->webdriver-manager) (1.26.20)\n",
            "Requirement already satisfied: certifi>=2017.4.17 in c:\\users\\wy7664\\appdata\\local\\programs\\python\\python313\\lib\\site-packages (from requests->webdriver-manager) (2025.1.31)\n",
            "Requirement already satisfied: beautifulsoup4 in c:\\users\\wy7664\\appdata\\local\\programs\\python\\python313\\lib\\site-packages (4.13.3)\n",
            "Requirement already satisfied: soupsieve>1.2 in c:\\users\\wy7664\\appdata\\local\\programs\\python\\python313\\lib\\site-packages (from beautifulsoup4) (2.6)\n",
            "Requirement already satisfied: typing-extensions>=4.0.0 in c:\\users\\wy7664\\appdata\\local\\programs\\python\\python313\\lib\\site-packages (from beautifulsoup4) (4.13.1)\n",
            "Requirement already satisfied: pandas in c:\\users\\wy7664\\appdata\\local\\programs\\python\\python313\\lib\\site-packages (2.2.3)\n",
            "Requirement already satisfied: numpy>=1.26.0 in c:\\users\\wy7664\\appdata\\local\\programs\\python\\python313\\lib\\site-packages (from pandas) (2.2.4)\n",
            "Requirement already satisfied: python-dateutil>=2.8.2 in c:\\users\\wy7664\\appdata\\roaming\\python\\python313\\site-packages (from pandas) (2.9.0.post0)\n",
            "Requirement already satisfied: pytz>=2020.1 in c:\\users\\wy7664\\appdata\\local\\programs\\python\\python313\\lib\\site-packages (from pandas) (2025.2)\n",
            "Requirement already satisfied: tzdata>=2022.7 in c:\\users\\wy7664\\appdata\\local\\programs\\python\\python313\\lib\\site-packages (from pandas) (2025.2)\n",
            "Requirement already satisfied: six>=1.5 in c:\\users\\wy7664\\appdata\\roaming\\python\\python313\\site-packages (from python-dateutil>=2.8.2->pandas) (1.17.0)\n",
            "Requirement already satisfied: python-dateutil in c:\\users\\wy7664\\appdata\\roaming\\python\\python313\\site-packages (2.9.0.post0)\n",
            "Requirement already satisfied: six>=1.5 in c:\\users\\wy7664\\appdata\\roaming\\python\\python313\\site-packages (from python-dateutil) (1.17.0)\n",
            "Requirement already satisfied: selenium in c:\\users\\wy7664\\appdata\\local\\programs\\python\\python313\\lib\\site-packages (4.31.0)\n",
            "Requirement already satisfied: urllib3<3,>=1.26 in c:\\users\\wy7664\\appdata\\local\\programs\\python\\python313\\lib\\site-packages (from urllib3[socks]<3,>=1.26->selenium) (1.26.20)\n",
            "Requirement already satisfied: trio~=0.17 in c:\\users\\wy7664\\appdata\\local\\programs\\python\\python313\\lib\\site-packages (from selenium) (0.29.0)\n",
            "Requirement already satisfied: trio-websocket~=0.9 in c:\\users\\wy7664\\appdata\\local\\programs\\python\\python313\\lib\\site-packages (from selenium) (0.12.2)\n",
            "Requirement already satisfied: certifi>=2021.10.8 in c:\\users\\wy7664\\appdata\\local\\programs\\python\\python313\\lib\\site-packages (from selenium) (2025.1.31)\n",
            "Requirement already satisfied: typing_extensions~=4.9 in c:\\users\\wy7664\\appdata\\local\\programs\\python\\python313\\lib\\site-packages (from selenium) (4.13.1)\n",
            "Requirement already satisfied: websocket-client~=1.8 in c:\\users\\wy7664\\appdata\\local\\programs\\python\\python313\\lib\\site-packages (from selenium) (1.8.0)\n",
            "Requirement already satisfied: attrs>=23.2.0 in c:\\users\\wy7664\\appdata\\local\\programs\\python\\python313\\lib\\site-packages (from trio~=0.17->selenium) (25.3.0)\n",
            "Requirement already satisfied: sortedcontainers in c:\\users\\wy7664\\appdata\\local\\programs\\python\\python313\\lib\\site-packages (from trio~=0.17->selenium) (2.4.0)\n",
            "Requirement already satisfied: idna in c:\\users\\wy7664\\appdata\\local\\programs\\python\\python313\\lib\\site-packages (from trio~=0.17->selenium) (3.10)\n",
            "Requirement already satisfied: outcome in c:\\users\\wy7664\\appdata\\local\\programs\\python\\python313\\lib\\site-packages (from trio~=0.17->selenium) (1.3.0.post0)\n",
            "Requirement already satisfied: sniffio>=1.3.0 in c:\\users\\wy7664\\appdata\\local\\programs\\python\\python313\\lib\\site-packages (from trio~=0.17->selenium) (1.3.1)\n",
            "Requirement already satisfied: cffi>=1.14 in c:\\users\\wy7664\\appdata\\local\\programs\\python\\python313\\lib\\site-packages (from trio~=0.17->selenium) (1.17.1)\n",
            "Requirement already satisfied: wsproto>=0.14 in c:\\users\\wy7664\\appdata\\local\\programs\\python\\python313\\lib\\site-packages (from trio-websocket~=0.9->selenium) (1.2.0)\n",
            "Requirement already satisfied: PySocks!=1.5.7,<2.0,>=1.5.6 in c:\\users\\wy7664\\appdata\\local\\programs\\python\\python313\\lib\\site-packages (from urllib3[socks]<3,>=1.26->selenium) (1.7.1)\n",
            "Requirement already satisfied: pycparser in c:\\users\\wy7664\\appdata\\local\\programs\\python\\python313\\lib\\site-packages (from cffi>=1.14->trio~=0.17->selenium) (2.22)\n",
            "Requirement already satisfied: h11<1,>=0.9.0 in c:\\users\\wy7664\\appdata\\local\\programs\\python\\python313\\lib\\site-packages (from wsproto>=0.14->trio-websocket~=0.9->selenium) (0.14.0)\n",
            "Requirement already satisfied: beautifulsoup4 in c:\\users\\wy7664\\appdata\\local\\programs\\python\\python313\\lib\\site-packages (4.13.3)\n",
            "Requirement already satisfied: soupsieve>1.2 in c:\\users\\wy7664\\appdata\\local\\programs\\python\\python313\\lib\\site-packages (from beautifulsoup4) (2.6)\n",
            "Requirement already satisfied: typing-extensions>=4.0.0 in c:\\users\\wy7664\\appdata\\local\\programs\\python\\python313\\lib\\site-packages (from beautifulsoup4) (4.13.1)\n"
          ]
        }
      ],
      "source": [
        "# Installing Packages\n",
        "!pip install alpaca-py\n",
        "!pip install alpaca-trade-api\n",
        "!pip install selenium\n",
        "!pip install webdriver-manager\n",
        "!pip install beautifulsoup4\n",
        "!pip install pandas\n",
        "!pip install python-dateutil\n",
        "!pip install selenium\n",
        "!pip install beautifulsoup4\n",
        "\n",
        "# Importing Libraries\n",
        "import alpaca_trade_api as alpaca\n",
        "import re\n",
        "import time\n",
        "import pandas as pd\n",
        "\n",
        "from selenium import webdriver\n",
        "from selenium.webdriver.chrome.options import Options\n",
        "from selenium.webdriver.chrome.service import Service\n",
        "from bs4 import BeautifulSoup\n",
        "from webdriver_manager.chrome import ChromeDriverManager\n",
        "from alpaca.data import StockHistoricalDataClient\n",
        "from alpaca.data.requests import StockBarsRequest\n",
        "from alpaca.data.timeframe import TimeFrame\n",
        "from datetime import datetime, timedelta\n",
        "from dateutil.relativedelta import relativedelta"
      ]
    },
    {
      "cell_type": "markdown",
      "metadata": {},
      "source": [
        "# API Keys"
      ]
    },
    {
      "cell_type": "code",
      "execution_count": null,
      "metadata": {},
      "outputs": [
        {
          "name": "stdout",
          "output_type": "stream",
          "text": [
            "Account({   'account_blocked': False,\n",
            "    'account_number': 'PA3R6HV88HU3',\n",
            "    'accrued_fees': '0',\n",
            "    'admin_configurations': {},\n",
            "    'balance_asof': '2025-04-10',\n",
            "    'bod_dtbp': '0',\n",
            "    'buying_power': '49192.59',\n",
            "    'cash': '156961.49',\n",
            "    'created_at': '2025-01-09T07:12:10.708072Z',\n",
            "    'crypto_status': 'ACTIVE',\n",
            "    'crypto_tier': 1,\n",
            "    'currency': 'USD',\n",
            "    'daytrade_count': 1,\n",
            "    'daytrading_buying_power': '0',\n",
            "    'effective_buying_power': '49192.59',\n",
            "    'equity': '95457.51',\n",
            "    'id': '4d1b44aa-a5e9-4a26-8e65-643967f94440',\n",
            "    'initial_margin': '70714.44',\n",
            "    'intraday_adjustments': '0',\n",
            "    'last_equity': '92556.4962622587',\n",
            "    'last_maintenance_margin': '47160.49',\n",
            "    'long_market_value': '35745.38',\n",
            "    'maintenance_margin': '44378.16',\n",
            "    'multiplier': '2',\n",
            "    'non_marginable_buying_power': '24743.07',\n",
            "    'options_approved_level': 3,\n",
            "    'options_buying_power': '42905.6',\n",
            "    'options_trading_level': 3,\n",
            "    'pattern_day_trader': False,\n",
            "    'pending_reg_taf_fees': '0',\n",
            "    'portfolio_value': '95457.51',\n",
            "    'position_market_value': '132994.74',\n",
            "    'regt_buying_power': '49192.59',\n",
            "    'short_market_value': '-97249.36',\n",
            "    'shorting_enabled': True,\n",
            "    'sma': '92556.5',\n",
            "    'status': 'ACTIVE',\n",
            "    'trade_suspended_by_user': False,\n",
            "    'trading_blocked': False,\n",
            "    'transfers_blocked': False,\n",
            "    'user_configurations': None})\n"
          ]
        }
      ],
      "source": [
        "# API key and secret key see https://app.alpaca.markets/paper/dashboard/overview to generate (API keys)\n",
        "API_KEY = '' # Add here your API key\n",
        "API_SECRET = '' # Add here your API secret key\n",
        "\n",
        "api = alpaca.REST(API_KEY, API_SECRET, 'https://paper-api.alpaca.markets')\n",
        "account = api.get_account()\n",
        "print(account)"
      ]
    },
    {
      "cell_type": "markdown",
      "metadata": {},
      "source": [
        "# IEX Trickers"
      ]
    },
    {
      "cell_type": "markdown",
      "metadata": {},
      "source": [
        "## Scrapping Tickers"
      ]
    },
    {
      "cell_type": "code",
      "execution_count": 41,
      "metadata": {
        "colab": {
          "base_uri": "https://localhost:8080/"
        },
        "id": "MKQ0G0k00ar8",
        "outputId": "0770b9c9-ccf1-4214-8a9f-143ca71c94a8"
      },
      "outputs": [
        {
          "name": "stdout",
          "output_type": "stream",
          "text": [
            "No tickers found.\n"
          ]
        }
      ],
      "source": [
        "# Alpaca offers data from IEX exchange (https://www.iexexchange.io/)\n",
        "# Tickers can be scrapped from the IEX Trading website (https://iextrading.com/trading/eligible-symbols/)\n",
        "def get_tickers(url):\n",
        "    # Set up Selenium Chrome options for headless mode.\n",
        "    chrome_options = Options()\n",
        "    chrome_options.add_argument('--headless')\n",
        "    chrome_options.add_argument('--no-sandbox')\n",
        "    chrome_options.add_argument('--disable-dev-shm-usage')\n",
        "\n",
        "    # 🛠️ Use ChromeDriverManager for auto-install\n",
        "    driver = webdriver.Chrome(service=Service(ChromeDriverManager().install()), options=chrome_options)\n",
        "\n",
        "    # Load the page\n",
        "    driver.get(url)\n",
        "\n",
        "    # Wait for a few seconds to allow the page and JavaScript to load completely.\n",
        "    time.sleep(5)\n",
        "\n",
        "    # Get the page source and then quit the driver\n",
        "    html = driver.page_source\n",
        "    driver.quit()\n",
        "\n",
        "    # Parse the page source using BeautifulSoup\n",
        "    soup = BeautifulSoup(html, 'html.parser')\n",
        "\n",
        "    # Find the table with eligible tickers.\n",
        "    # Adjust the selector if necessary based on the actual HTML structure.\n",
        "    table = soup.find('table')\n",
        "    if not table:\n",
        "        print(\"Could not locate the table containing the tickers.\")\n",
        "        return []\n",
        "\n",
        "    tickers = []\n",
        "    # Loop through each row in the table.\n",
        "    for row in table.find_all('tr'):\n",
        "        cells = row.find_all('td')\n",
        "        if cells:\n",
        "            # Assume the first cell holds the ticker symbol.\n",
        "            ticker = cells[0].get_text(strip=True)\n",
        "            tickers.append(ticker)\n",
        "\n",
        "    return tickers\n",
        "\n",
        "if __name__ == \"__main__\":\n",
        "    url = \"https://iextrading.com/trading/eligible-symbols/\"\n",
        "    tickers = get_tickers(url)\n",
        "    if tickers:\n",
        "        print(\"Retrieved tickers:\")\n",
        "        print(tickers)\n",
        "    else:\n",
        "        print(\"No tickers found.\")\n"
      ]
    },
    {
      "cell_type": "markdown",
      "metadata": {},
      "source": [
        "## Cleaning Ticker Symbols"
      ]
    },
    {
      "cell_type": "code",
      "execution_count": 42,
      "metadata": {
        "id": "U_AxaRyS2ir7"
      },
      "outputs": [
        {
          "data": {
            "text/plain": [
              "[]"
            ]
          },
          "execution_count": 42,
          "metadata": {},
          "output_type": "execute_result"
        }
      ],
      "source": [
        "def remove_symbols_with_special_characters(symbols):\n",
        "    valid_symbols = [symbol for symbol in symbols if re.match(\"^[a-zA-Z0-9]*$\", symbol)]\n",
        "    return valid_symbols\n",
        "\n",
        "str_converter = []\n",
        "for ticker in tickers:\n",
        "    str_converter.append(str(ticker))\n",
        "tickers = remove_symbols_with_special_characters(str_converter)\n",
        "tickers"
      ]
    },
    {
      "cell_type": "markdown",
      "metadata": {},
      "source": [
        "## Stock Data for Tickers"
      ]
    },
    {
      "cell_type": "code",
      "execution_count": 43,
      "metadata": {},
      "outputs": [
        {
          "name": "stdout",
          "output_type": "stream",
          "text": [
            "2025-04-09 10:25:11.692151\n",
            "2025-04-10 10:25:11.692219\n",
            "No data found in the last 10 years.\n"
          ]
        }
      ],
      "source": [
        "# Initializing client for historical stock data\n",
        "stock_client = StockHistoricalDataClient(API_KEY,  API_SECRET)\n",
        "\n",
        "df_past = {}\n",
        "start = datetime.now() - relativedelta(days=2)\n",
        "end = datetime.now() - relativedelta(days=1)\n",
        "print(start)\n",
        "print(end)\n",
        "\n",
        "batch_size = max(1, len(tickers) // 100)\n",
        "df_past = pd.DataFrame()\n",
        "\n",
        "limit_date = datetime.now() - relativedelta(years=10)\n",
        "\n",
        "while df_past.empty and start > limit_date:\n",
        "    for i in range(0, len(tickers), batch_size):\n",
        "        tickers_batch = tickers[i:i + batch_size]\n",
        "\n",
        "        request_params = StockBarsRequest(\n",
        "            symbol_or_symbols=tickers_batch,\n",
        "            timeframe=TimeFrame.Day,\n",
        "            start=start,\n",
        "            end=end,\n",
        "            feed=\"iex\"  # optional: ensures compatibility with free tier\n",
        "        )\n",
        "\n",
        "        bars = stock_client.get_stock_bars(request_params)\n",
        "\n",
        "        if not bars.df.empty:\n",
        "            df_past = pd.concat([df_past, bars.df])\n",
        "\n",
        "    start -= timedelta(days=1)\n",
        "    end -= timedelta(days=1)\n",
        "\n",
        "if df_past.empty:\n",
        "    print(\"No data found in the last 10 years.\")\n",
        "else:\n",
        "    print(\"Data loaded. Saving to CSV...\")\n",
        "    df_past.to_csv(\"stock_data.csv\", index=False)\n",
        "    print(\"Saved as stock_data.csv\")"
      ]
    }
  ],
  "metadata": {
    "colab": {
      "provenance": []
    },
    "kernelspec": {
      "display_name": "Python 3",
      "name": "python3"
    },
    "language_info": {
      "codemirror_mode": {
        "name": "ipython",
        "version": 3
      },
      "file_extension": ".py",
      "mimetype": "text/x-python",
      "name": "python",
      "nbconvert_exporter": "python",
      "pygments_lexer": "ipython3",
      "version": "3.13.3"
    }
  },
  "nbformat": 4,
  "nbformat_minor": 0
}
